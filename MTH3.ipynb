{
 "cells": [
  {
   "cell_type": "markdown",
   "id": "2b4dd53d",
   "metadata": {},
   "source": [
    "#                                DÉPARTEMENT DE MATHÉMATIQUES ET DE GÉNIE INDUSTRIEL\n",
    "\n",
    "##                               MTH6312 - MÉTHODES STATISTIQUES D’APPRENTISSAGE\n",
    "\n",
    "###                                      Devoir no 3 - Automne 2024"
   ]
  },
  {
   "cell_type": "markdown",
   "id": "09d63586",
   "metadata": {},
   "source": [
    "### QUESTION No 1"
   ]
  },
  {
   "cell_type": "markdown",
   "id": "746aa9ae",
   "metadata": {},
   "source": [
    "#### Génération des données personnelles mondata1"
   ]
  },
  {
   "cell_type": "code",
   "execution_count": 65,
   "id": "df13f4f9",
   "metadata": {},
   "outputs": [],
   "source": [
    "library(ISLR2)"
   ]
  },
  {
   "cell_type": "code",
   "execution_count": 66,
   "id": "dcdf1771",
   "metadata": {},
   "outputs": [],
   "source": [
    "set.seed(2305686)\n",
    "mondata1<-Wage[sample(3000,500),]"
   ]
  },
  {
   "cell_type": "code",
   "execution_count": 67,
   "id": "58f0601a",
   "metadata": {},
   "outputs": [
    {
     "data": {
      "text/html": [
       "<table class=\"dataframe\">\n",
       "<caption>A data.frame: 6 × 11</caption>\n",
       "<thead>\n",
       "\t<tr><th></th><th scope=col>year</th><th scope=col>age</th><th scope=col>maritl</th><th scope=col>race</th><th scope=col>education</th><th scope=col>region</th><th scope=col>jobclass</th><th scope=col>health</th><th scope=col>health_ins</th><th scope=col>logwage</th><th scope=col>wage</th></tr>\n",
       "\t<tr><th></th><th scope=col>&lt;int&gt;</th><th scope=col>&lt;int&gt;</th><th scope=col>&lt;fct&gt;</th><th scope=col>&lt;fct&gt;</th><th scope=col>&lt;fct&gt;</th><th scope=col>&lt;fct&gt;</th><th scope=col>&lt;fct&gt;</th><th scope=col>&lt;fct&gt;</th><th scope=col>&lt;fct&gt;</th><th scope=col>&lt;dbl&gt;</th><th scope=col>&lt;dbl&gt;</th></tr>\n",
       "</thead>\n",
       "<tbody>\n",
       "\t<tr><th scope=row>374558</th><td>2008</td><td>31</td><td>1. Never Married</td><td>1. White</td><td><span style=white-space:pre-wrap>3. Some College   </span></td><td>2. Middle Atlantic</td><td>1. Industrial </td><td>2. &gt;=Very Good</td><td>1. Yes</td><td>4.531479</td><td> 92.89584</td></tr>\n",
       "\t<tr><th scope=row>450648</th><td>2009</td><td>47</td><td>1. Never Married</td><td>4. Other</td><td><span style=white-space:pre-wrap>1. &lt; HS Grad      </span></td><td>2. Middle Atlantic</td><td>1. Industrial </td><td><span style=white-space:pre-wrap>1. &lt;=Good     </span></td><td>2. No </td><td>4.272306</td><td> 71.68674</td></tr>\n",
       "\t<tr><th scope=row>82172</th><td>2004</td><td>54</td><td><span style=white-space:pre-wrap>2. Married      </span></td><td>2. Black</td><td><span style=white-space:pre-wrap>2. HS Grad        </span></td><td>2. Middle Atlantic</td><td>2. Information</td><td><span style=white-space:pre-wrap>1. &lt;=Good     </span></td><td>1. Yes</td><td>4.698970</td><td>109.83399</td></tr>\n",
       "\t<tr><th scope=row>14196</th><td>2005</td><td>54</td><td><span style=white-space:pre-wrap>2. Married      </span></td><td>1. White</td><td><span style=white-space:pre-wrap>4. College Grad   </span></td><td>2. Middle Atlantic</td><td>2. Information</td><td>2. &gt;=Very Good</td><td>2. No </td><td>4.740363</td><td>114.47571</td></tr>\n",
       "\t<tr><th scope=row>9947</th><td>2005</td><td>36</td><td><span style=white-space:pre-wrap>2. Married      </span></td><td>1. White</td><td>5. Advanced Degree</td><td>2. Middle Atlantic</td><td>2. Information</td><td>2. &gt;=Very Good</td><td>1. Yes</td><td>4.942008</td><td>140.05120</td></tr>\n",
       "\t<tr><th scope=row>80496</th><td>2004</td><td>42</td><td><span style=white-space:pre-wrap>2. Married      </span></td><td>1. White</td><td><span style=white-space:pre-wrap>2. HS Grad        </span></td><td>2. Middle Atlantic</td><td>1. Industrial </td><td>2. &gt;=Very Good</td><td>2. No </td><td>4.518514</td><td> 91.69923</td></tr>\n",
       "</tbody>\n",
       "</table>\n"
      ],
      "text/latex": [
       "A data.frame: 6 × 11\n",
       "\\begin{tabular}{r|lllllllllll}\n",
       "  & year & age & maritl & race & education & region & jobclass & health & health\\_ins & logwage & wage\\\\\n",
       "  & <int> & <int> & <fct> & <fct> & <fct> & <fct> & <fct> & <fct> & <fct> & <dbl> & <dbl>\\\\\n",
       "\\hline\n",
       "\t374558 & 2008 & 31 & 1. Never Married & 1. White & 3. Some College    & 2. Middle Atlantic & 1. Industrial  & 2. >=Very Good & 1. Yes & 4.531479 &  92.89584\\\\\n",
       "\t450648 & 2009 & 47 & 1. Never Married & 4. Other & 1. < HS Grad       & 2. Middle Atlantic & 1. Industrial  & 1. <=Good      & 2. No  & 4.272306 &  71.68674\\\\\n",
       "\t82172 & 2004 & 54 & 2. Married       & 2. Black & 2. HS Grad         & 2. Middle Atlantic & 2. Information & 1. <=Good      & 1. Yes & 4.698970 & 109.83399\\\\\n",
       "\t14196 & 2005 & 54 & 2. Married       & 1. White & 4. College Grad    & 2. Middle Atlantic & 2. Information & 2. >=Very Good & 2. No  & 4.740363 & 114.47571\\\\\n",
       "\t9947 & 2005 & 36 & 2. Married       & 1. White & 5. Advanced Degree & 2. Middle Atlantic & 2. Information & 2. >=Very Good & 1. Yes & 4.942008 & 140.05120\\\\\n",
       "\t80496 & 2004 & 42 & 2. Married       & 1. White & 2. HS Grad         & 2. Middle Atlantic & 1. Industrial  & 2. >=Very Good & 2. No  & 4.518514 &  91.69923\\\\\n",
       "\\end{tabular}\n"
      ],
      "text/markdown": [
       "\n",
       "A data.frame: 6 × 11\n",
       "\n",
       "| <!--/--> | year &lt;int&gt; | age &lt;int&gt; | maritl &lt;fct&gt; | race &lt;fct&gt; | education &lt;fct&gt; | region &lt;fct&gt; | jobclass &lt;fct&gt; | health &lt;fct&gt; | health_ins &lt;fct&gt; | logwage &lt;dbl&gt; | wage &lt;dbl&gt; |\n",
       "|---|---|---|---|---|---|---|---|---|---|---|---|\n",
       "| 374558 | 2008 | 31 | 1. Never Married | 1. White | 3. Some College    | 2. Middle Atlantic | 1. Industrial  | 2. &gt;=Very Good | 1. Yes | 4.531479 |  92.89584 |\n",
       "| 450648 | 2009 | 47 | 1. Never Married | 4. Other | 1. &lt; HS Grad       | 2. Middle Atlantic | 1. Industrial  | 1. &lt;=Good      | 2. No  | 4.272306 |  71.68674 |\n",
       "| 82172 | 2004 | 54 | 2. Married       | 2. Black | 2. HS Grad         | 2. Middle Atlantic | 2. Information | 1. &lt;=Good      | 1. Yes | 4.698970 | 109.83399 |\n",
       "| 14196 | 2005 | 54 | 2. Married       | 1. White | 4. College Grad    | 2. Middle Atlantic | 2. Information | 2. &gt;=Very Good | 2. No  | 4.740363 | 114.47571 |\n",
       "| 9947 | 2005 | 36 | 2. Married       | 1. White | 5. Advanced Degree | 2. Middle Atlantic | 2. Information | 2. &gt;=Very Good | 1. Yes | 4.942008 | 140.05120 |\n",
       "| 80496 | 2004 | 42 | 2. Married       | 1. White | 2. HS Grad         | 2. Middle Atlantic | 1. Industrial  | 2. &gt;=Very Good | 2. No  | 4.518514 |  91.69923 |\n",
       "\n"
      ],
      "text/plain": [
       "       year age maritl           race     education          region            \n",
       "374558 2008 31  1. Never Married 1. White 3. Some College    2. Middle Atlantic\n",
       "450648 2009 47  1. Never Married 4. Other 1. < HS Grad       2. Middle Atlantic\n",
       "82172  2004 54  2. Married       2. Black 2. HS Grad         2. Middle Atlantic\n",
       "14196  2005 54  2. Married       1. White 4. College Grad    2. Middle Atlantic\n",
       "9947   2005 36  2. Married       1. White 5. Advanced Degree 2. Middle Atlantic\n",
       "80496  2004 42  2. Married       1. White 2. HS Grad         2. Middle Atlantic\n",
       "       jobclass       health         health_ins logwage  wage     \n",
       "374558 1. Industrial  2. >=Very Good 1. Yes     4.531479  92.89584\n",
       "450648 1. Industrial  1. <=Good      2. No      4.272306  71.68674\n",
       "82172  2. Information 1. <=Good      1. Yes     4.698970 109.83399\n",
       "14196  2. Information 2. >=Very Good 2. No      4.740363 114.47571\n",
       "9947   2. Information 2. >=Very Good 1. Yes     4.942008 140.05120\n",
       "80496  1. Industrial  2. >=Very Good 2. No      4.518514  91.69923"
      ]
     },
     "metadata": {},
     "output_type": "display_data"
    }
   ],
   "source": [
    "#Visualisation du mondata\n",
    "head(mondata1)"
   ]
  },
  {
   "cell_type": "code",
   "execution_count": 68,
   "id": "c2f4b690",
   "metadata": {},
   "outputs": [
    {
     "data": {
      "text/plain": [
       "\n",
       "     1. <=Good 2. >=Very Good \n",
       "           135            365 "
      ]
     },
     "metadata": {},
     "output_type": "display_data"
    }
   ],
   "source": [
    "table(mondata1$health)"
   ]
  },
  {
   "cell_type": "code",
   "execution_count": 69,
   "id": "60f463f6",
   "metadata": {},
   "outputs": [],
   "source": [
    "df<-mondata1[c(\"health\",\"age\",\"wage\")]"
   ]
  },
  {
   "cell_type": "code",
   "execution_count": 70,
   "id": "97ef5c82",
   "metadata": {},
   "outputs": [
    {
     "data": {
      "text/html": [
       "<table class=\"dataframe\">\n",
       "<caption>A data.frame: 6 × 3</caption>\n",
       "<thead>\n",
       "\t<tr><th></th><th scope=col>health</th><th scope=col>age</th><th scope=col>wage</th></tr>\n",
       "\t<tr><th></th><th scope=col>&lt;fct&gt;</th><th scope=col>&lt;int&gt;</th><th scope=col>&lt;dbl&gt;</th></tr>\n",
       "</thead>\n",
       "<tbody>\n",
       "\t<tr><th scope=row>374558</th><td>2. &gt;=Very Good</td><td>31</td><td> 92.89584</td></tr>\n",
       "\t<tr><th scope=row>450648</th><td><span style=white-space:pre-wrap>1. &lt;=Good     </span></td><td>47</td><td> 71.68674</td></tr>\n",
       "\t<tr><th scope=row>82172</th><td><span style=white-space:pre-wrap>1. &lt;=Good     </span></td><td>54</td><td>109.83399</td></tr>\n",
       "\t<tr><th scope=row>14196</th><td>2. &gt;=Very Good</td><td>54</td><td>114.47571</td></tr>\n",
       "\t<tr><th scope=row>9947</th><td>2. &gt;=Very Good</td><td>36</td><td>140.05120</td></tr>\n",
       "\t<tr><th scope=row>80496</th><td>2. &gt;=Very Good</td><td>42</td><td> 91.69923</td></tr>\n",
       "</tbody>\n",
       "</table>\n"
      ],
      "text/latex": [
       "A data.frame: 6 × 3\n",
       "\\begin{tabular}{r|lll}\n",
       "  & health & age & wage\\\\\n",
       "  & <fct> & <int> & <dbl>\\\\\n",
       "\\hline\n",
       "\t374558 & 2. >=Very Good & 31 &  92.89584\\\\\n",
       "\t450648 & 1. <=Good      & 47 &  71.68674\\\\\n",
       "\t82172 & 1. <=Good      & 54 & 109.83399\\\\\n",
       "\t14196 & 2. >=Very Good & 54 & 114.47571\\\\\n",
       "\t9947 & 2. >=Very Good & 36 & 140.05120\\\\\n",
       "\t80496 & 2. >=Very Good & 42 &  91.69923\\\\\n",
       "\\end{tabular}\n"
      ],
      "text/markdown": [
       "\n",
       "A data.frame: 6 × 3\n",
       "\n",
       "| <!--/--> | health &lt;fct&gt; | age &lt;int&gt; | wage &lt;dbl&gt; |\n",
       "|---|---|---|---|\n",
       "| 374558 | 2. &gt;=Very Good | 31 |  92.89584 |\n",
       "| 450648 | 1. &lt;=Good      | 47 |  71.68674 |\n",
       "| 82172 | 1. &lt;=Good      | 54 | 109.83399 |\n",
       "| 14196 | 2. &gt;=Very Good | 54 | 114.47571 |\n",
       "| 9947 | 2. &gt;=Very Good | 36 | 140.05120 |\n",
       "| 80496 | 2. &gt;=Very Good | 42 |  91.69923 |\n",
       "\n"
      ],
      "text/plain": [
       "       health         age wage     \n",
       "374558 2. >=Very Good 31   92.89584\n",
       "450648 1. <=Good      47   71.68674\n",
       "82172  1. <=Good      54  109.83399\n",
       "14196  2. >=Very Good 54  114.47571\n",
       "9947   2. >=Very Good 36  140.05120\n",
       "80496  2. >=Very Good 42   91.69923"
      ]
     },
     "metadata": {},
     "output_type": "display_data"
    }
   ],
   "source": [
    "#names(df)[names(df)==\"health_num\"]<-\"health\"\n",
    "head(df)"
   ]
  },
  {
   "cell_type": "markdown",
   "id": "45c2cd8e",
   "metadata": {},
   "source": [
    "#### Exploration du dataset"
   ]
  },
  {
   "cell_type": "code",
   "execution_count": 71,
   "id": "a95f02a3",
   "metadata": {},
   "outputs": [
    {
     "data": {
      "text/plain": [
       "\n",
       "     1. <=Good 2. >=Very Good \n",
       "           135            365 "
      ]
     },
     "metadata": {},
     "output_type": "display_data"
    }
   ],
   "source": [
    "# Histogrammes pour voir la distribution de chaque variable\n",
    "health_count<-table(df$health)\n",
    "health_count"
   ]
  },
  {
   "cell_type": "code",
   "execution_count": 72,
   "id": "6f0092fa",
   "metadata": {},
   "outputs": [
    {
     "data": {
      "image/png": "[encoded data removed]",
      "text/plain": [
       "Plot with title \"Distribution de la variable 'health'\""
      ]
     },
     "metadata": {
      "image/png": {
       "height": 420,
       "width": 420
      }
     },
     "output_type": "display_data"
    }
   ],
   "source": [
    "#Distribution de la variable cible\n",
    "barplot(health_count, main = \"Distribution de la variable 'health'\",\n",
    "        xlab = \"Health\", ylab = \"Fréquence\", col = c(\"lightblue\", \"salmon\"))"
   ]
  },
  {
   "cell_type": "code",
   "execution_count": 73,
   "id": "4cafc1ca",
   "metadata": {},
   "outputs": [
    {
     "data": {
      "image/png": "[encoded data removed]",
      "text/plain": [
       "Plot with title \"Distribution de age\""
      ]
     },
     "metadata": {
      "image/png": {
       "height": 420,
       "width": 420
      }
     },
     "output_type": "display_data"
    },
    {
     "data": {
      "image/png": "[encoded data removed]",
      "text/plain": [
       "Plot with title \"Distribution de wage\""
      ]
     },
     "metadata": {
      "image/png": {
       "height": 420,
       "width": 420
      }
     },
     "output_type": "display_data"
    }
   ],
   "source": [
    "#Distribution des variables explicatives\n",
    "# Boucle pour tracer les histogrammes des colonnes entières\n",
    "for (col_name in names(df)) {\n",
    "  # Vérifie si la colonne est de type entier\n",
    "  if (is.numeric(mondata1[[col_name]])) {\n",
    "    # Tracer des histogrammes\n",
    "    hist(mondata1[[col_name]], \n",
    "         main = paste(\"Distribution de\", col_name),\n",
    "         xlab = col_name, \n",
    "         col = \"lightblue\")\n",
    "  }\n",
    "}"
   ]
  },
  {
   "cell_type": "code",
   "execution_count": 74,
   "id": "0f6bf718",
   "metadata": {},
   "outputs": [
    {
     "data": {
      "text/plain": [
       "            health         age             wage       \n",
       " 1. <=Good     :135   Min.   :19.00   Min.   : 20.93  \n",
       " 2. >=Very Good:365   1st Qu.:33.00   1st Qu.: 85.38  \n",
       "                      Median :42.00   Median :108.23  \n",
       "                      Mean   :41.84   Mean   :115.03  \n",
       "                      3rd Qu.:49.25   3rd Qu.:132.58  \n",
       "                      Max.   :80.00   Max.   :314.33  "
      ]
     },
     "metadata": {},
     "output_type": "display_data"
    }
   ],
   "source": [
    "summary(df)"
   ]
  },
  {
   "cell_type": "code",
   "execution_count": 75,
   "id": "c8d4c66a",
   "metadata": {},
   "outputs": [
    {
     "data": {
      "text/html": [
       "'l âge moyen des travailleurs est: 41.844'"
      ],
      "text/latex": [
       "'l âge moyen des travailleurs est: 41.844'"
      ],
      "text/markdown": [
       "'l âge moyen des travailleurs est: 41.844'"
      ],
      "text/plain": [
       "[1] \"l âge moyen des travailleurs est: 41.844\""
      ]
     },
     "metadata": {},
     "output_type": "display_data"
    },
    {
     "data": {
      "text/html": [
       "'Le salaire moyen des travailleurs est: 115.032192957593'"
      ],
      "text/latex": [
       "'Le salaire moyen des travailleurs est: 115.032192957593'"
      ],
      "text/markdown": [
       "'Le salaire moyen des travailleurs est: 115.032192957593'"
      ],
      "text/plain": [
       "[1] \"Le salaire moyen des travailleurs est: 115.032192957593\""
      ]
     },
     "metadata": {},
     "output_type": "display_data"
    }
   ],
   "source": [
    "age_moyen<-mean(df$age)\n",
    "salaire_moyen<-mean(df$wage)\n",
    "paste(\"l âge moyen des travailleurs est:\", age_moyen)\n",
    "paste(\"Le salaire moyen des travailleurs est:\", salaire_moyen)"
   ]
  },
  {
   "cell_type": "markdown",
   "id": "a703ed0b",
   "metadata": {},
   "source": [
    "L'analyse exploratoire des données révèle que la majorité des individus sont en très bonne santé (`\"Very Good\"`), avec 365 personnes contre 135 dans la catégorie `\"<=Good\"`. La distribution de l'âge est centrée autour de 42 ans, couvrant une population active, tandis que la distribution des salaires est asymétrique à droite, avec une moyenne de 115.03 et quelques salaires plus élevés atteignant environ 314.33."
   ]
  },
  {
   "cell_type": "markdown",
   "id": "fb8b02c6",
   "metadata": {},
   "source": [
    "### a) KNN"
   ]
  },
  {
   "cell_type": "code",
   "execution_count": 76,
   "id": "54e85589",
   "metadata": {},
   "outputs": [
    {
     "name": "stderr",
     "output_type": "stream",
     "text": [
      "Installation du package dans 'C:/Users/gpres/AppData/Local/R/win-library/4.4'\n",
      "(car 'lib' n'est pas spécifié)\n",
      "\n",
      "Warning message:\n",
      "\"le package 'library(caret)' n'est pas disponible for this version of R\n",
      "\n",
      "Une version de ce package pour votre version de R est peut-être disponible ailleurs,\n",
      "Voyez des idées à\n",
      "https://cran.r-project.org/doc/manuals/r-patched/R-admin.html#Installing-packages\"\n"
     ]
    }
   ],
   "source": [
    "install.packages(\"library(caret)\")"
   ]
  },
  {
   "cell_type": "code",
   "execution_count": 77,
   "id": "27609c09",
   "metadata": {},
   "outputs": [],
   "source": [
    "library(caret) # pour les techniques de validation croisée et les modèles KNN, LDA, QDA\n",
    "library(ggplot2)"
   ]
  },
  {
   "cell_type": "code",
   "execution_count": 78,
   "id": "c28a5486",
   "metadata": {},
   "outputs": [],
   "source": [
    "# Initialisation des valeurs de K que nous allons tester, de 1 à 180\n",
    "k_values<-1:180\n",
    "\n",
    "# Création des vecteurs vides pour stocker les taux d'erreur pour chaque K en LOOCV et 5-Fold CV\n",
    "loocv_error<-numeric(length(k_values))\n",
    "fold5_error<-numeric(length(k_values))"
   ]
  },
  {
   "cell_type": "markdown",
   "id": "038de207",
   "metadata": {},
   "source": [
    "#### a-1. Estimation du taux d'erreur test avec LOOCV et 5-Fold CV pour KNN"
   ]
  },
  {
   "cell_type": "code",
   "execution_count": 79,
   "id": "e29bbe5a",
   "metadata": {},
   "outputs": [],
   "source": [
    "# Live_One_Out Cross Validation\n",
    "for (i in seq_along(k_values)) {\n",
    "  k <- k_values[i]  # Obtenir la valeur de K correspondant à l'index i\n",
    "  \n",
    "  # Utilisation de la fonction train() de caret pour appliquer LOOCV avec KNN\n",
    "  loocv_result <- train(\n",
    "    health ~ age + wage,\n",
    "    data = df,\n",
    "    method = \"knn\",\n",
    "    trControl = trainControl(method = \"LOOCV\"), # Configuration pour LOOCV\n",
    "    tuneGrid = data.frame(k = k)                # Nombre de voisins pour KNN\n",
    "  )\n",
    "  \n",
    "  # Calcul du taux d'erreur (1 - précision) pour chaque K et le stocker\n",
    "  loocv_error[i] <- 1 - max(loocv_result$results$Accuracy)\n",
    "}\n",
    "\n",
    "# k-Fold Cross Validation\n",
    "for (i in seq_along(k_values)) {\n",
    "  k <- k_values[i]  # Obtenir la valeur de K correspondant à l'index i\n",
    "  \n",
    "  fold5_result <- train(\n",
    "    health ~ age + wage,\n",
    "    data = df,\n",
    "    method = \"knn\",\n",
    "    trControl = trainControl(method = \"cv\", number = 5),\n",
    "    tuneGrid = data.frame(k = k)\n",
    "  )\n",
    "  \n",
    "  # Calcul du taux d'erreur (1 - précision) pour chaque K et le stocker\n",
    "  fold5_error[i] <- 1 - max(fold5_result$results$Accuracy)\n",
    "}"
   ]
  },
  {
   "cell_type": "code",
   "execution_count": 80,
   "id": "afcc0381",
   "metadata": {},
   "outputs": [
    {
     "data": {
      "image/png": "[encoded data removed]",
      "text/plain": [
       "Plot with title \"Taux d'erreur en fonction de 1/K (LOOCV et 5-Fold CV)\""
      ]
     },
     "metadata": {
      "image/png": {
       "height": 420,
       "width": 420
      }
     },
     "output_type": "display_data"
    }
   ],
   "source": [
    "#Courbe des taux d'erreur en fonction de 1/K pour visualiser la performance\n",
    "plot(1/k_values,loocv_error, type=\"l\", col=\"blue\",\n",
    "        xlab=\"I/K\", ylab=\"Taux d'erreur\", main=\"Taux d'erreur en fonction de 1/K (LOOCV et 5-Fold CV)\")\n",
    "\n",
    "# Ajout de la courbe des taux d'erreur pour le 5-Fold CV\n",
    "lines(1/k_values, fold5_error, col=\"red\")\n",
    "\n",
    "# Ajout d'une légende\n",
    "legend(\"topright\",legend=c(\"LOOCV\", \"5-Fold CV\"), col=c(\"blue\", \"red\"), lty = 1)"
   ]
  },
  {
   "cell_type": "markdown",
   "id": "e4232ed1",
   "metadata": {},
   "source": [
    "#### a-2. Valeur du k optimal pour la classification"
   ]
  },
  {
   "cell_type": "code",
   "execution_count": 81,
   "id": "e47445dc",
   "metadata": {},
   "outputs": [
    {
     "name": "stdout",
     "output_type": "stream",
     "text": [
      "Valeur optimale de K pour LOOCV : 21 avec un taux d'erreur de 0.254 \n",
      "Valeur optimale de K pour 5-Fold CV : 21 avec un taux d'erreur de 0.25 \n"
     ]
    }
   ],
   "source": [
    "#Determination de la valeur de K qui minimise le taux d'erreur\n",
    "\n",
    "#LOOCV\n",
    "k_optimal_loocv <- k_values[which.min(loocv_error)]\n",
    "error_min_loocv <- min(loocv_error)\n",
    "\n",
    "#5-Fold CV\n",
    "k_optimal_fold5 <- k_values[which.min(fold5_error)]\n",
    "error_min_fold5 <- min(fold5_error)\n",
    "\n",
    "#Affichage\n",
    "cat(\"Valeur optimale de K pour LOOCV :\", k_optimal_loocv, \"avec un taux d'erreur de\", error_min_loocv, \"\\n\")\n",
    "cat(\"Valeur optimale de K pour 5-Fold CV :\", k_optimal_fold5, \"avec un taux d'erreur de\", error_min_fold5, \"\\n\")"
   ]
  },
  {
   "cell_type": "markdown",
   "id": "ec63761e",
   "metadata": {},
   "source": [
    "Les résultats montrent que pour LOOCV, \\( K = 21 \\) est optimal avec un taux d'erreur de 0.252, et pour 5-Fold CV, \\( K = 30 \\) est optimal avec un taux d'erreur de 0.25. Comme la différence est faible, choisir \\( K = 21 \\) pour le 5-Fold CV pourrait être plus stable et aider à mieux généraliser, en évitant les variations dues aux petites erreurs dans les données."
   ]
  },
  {
   "cell_type": "markdown",
   "id": "fe2281cc",
   "metadata": {},
   "source": [
    "### b) Régression Logistique\n",
    "\n",
    "#### 1. Estimation du taux d'erreur pour les deux modèles de régression logistique avec LOOCV et 5-Fold CV"
   ]
  },
  {
   "cell_type": "markdown",
   "id": "6ae620b1",
   "metadata": {},
   "source": [
    "##### Modèle 1 : Régression logistique linéaire"
   ]
  },
  {
   "cell_type": "code",
   "execution_count": 82,
   "id": "a432adba",
   "metadata": {},
   "outputs": [],
   "source": [
    "# Définition des deux modèles\n",
    "modele1 <- health ~ age + wage\n",
    "modele2 <- health ~ age + wage + I(age^2) + I(wage^2)\n",
    "\n",
    "# Définition des contrôles pour la validation croisée\n",
    "loocv_control<-trainControl(method = \"LOOCV\")\n",
    "fold5_control<-trainControl(method = \"cv\", number = 5)"
   ]
  },
  {
   "cell_type": "code",
   "execution_count": 165,
   "id": "8a980ebb",
   "metadata": {},
   "outputs": [],
   "source": [
    "# Appliquation de la validation croisée pour Modèle 1\n",
    "loocv_modele1<-train(\n",
    "    modele1,\n",
    "    data=df,\n",
    "    method=\"glm\",\n",
    "    family=binomial,\n",
    "    trControl=loocv_control\n",
    "    )\n",
    "# Taux d'erreur pour LOOCV de Modèle 1\n",
    "loocv_error_modele1<-1-max(loocv_modele1$result$Accuracy)\n",
    "\n",
    "# 5-Fold CV pour Modèle 1\n",
    "fold5_modele1<-train(\n",
    "    modele1,\n",
    "    data=df,\n",
    "    method=\"glm\",\n",
    "    family=binomial,\n",
    "    trControl=fold5_control\n",
    "    )\n",
    "# Taux d'erreur pour LOOCV de Modèle 1\n",
    "fold5_error_modele1<-1-max(fold5_modele1$result$Accuracy)\n",
    "\n",
    "# Appliquation de la validation croisée pour Modèle 2\n",
    "loocv_modele2<-train(\n",
    "    modele2,\n",
    "    data=df,\n",
    "    method=\"glm\",\n",
    "    family=binomial,\n",
    "    trControl=loocv_control\n",
    "    )\n",
    "# Taux d'erreur pour LOOCV de Modèle 2\n",
    "loocv_error_modele2<-1-max(loocv_modele2$result$Accuracy)\n",
    "\n",
    "# 5-Fold CV pour Modèle 2\n",
    "fold5_modele2<-train(\n",
    "    modele2,\n",
    "    data=df,\n",
    "    method=\"glm\",\n",
    "    family=binomial,\n",
    "    trControl=fold5_control\n",
    "    )\n",
    "# Taux d'erreur pour LOOCV de Modèle 1\n",
    "fold5_error_modele2<-1-max(fold5_modele2$result$Accuracy)"
   ]
  },
  {
   "cell_type": "code",
   "execution_count": 166,
   "id": "91e31e35",
   "metadata": {},
   "outputs": [
    {
     "name": "stdout",
     "output_type": "stream",
     "text": [
      "Taux d'erreur pour Modèle 1 - LOOCV: 0.258 \n",
      "Taux d'erreur pour Modèle 1 - 5-Fold CV: 0.254 \n",
      "Taux d'erreur pour Modèle 2 - LOOCV: 0.262 \n",
      "Taux d'erreur pour Modèle 2 - 5-Fold CV: 0.252 \n"
     ]
    }
   ],
   "source": [
    "# Affichage des résultats\n",
    "cat(\"Taux d'erreur pour Modèle 1 - LOOCV:\", loocv_error_modele1, \"\\n\")\n",
    "cat(\"Taux d'erreur pour Modèle 1 - 5-Fold CV:\", fold5_error_modele1, \"\\n\")\n",
    "cat(\"Taux d'erreur pour Modèle 2 - LOOCV:\", loocv_error_modele2, \"\\n\")\n",
    "cat(\"Taux d'erreur pour Modèle 2 - 5-Fold CV:\", fold5_error_modele2, \"\\n\")"
   ]
  },
  {
   "cell_type": "markdown",
   "id": "ca1147db",
   "metadata": {},
   "source": [
    "#### 1. Choix du modèle idéal pour la classification"
   ]
  },
  {
   "cell_type": "markdown",
   "id": "2be5199b",
   "metadata": {},
   "source": [
    "On remarque que le Modèle 1 (linéaire) présente des taux d'erreur légèrement inférieurs à ceux du Modèle 2 (quadratique) pour les deux méthodes de validation croisée utilisées. En effet, avec la méthode LOOCV, le Modèle 1 obtient un taux d'erreur de 0.258 contre 0.262 pour le Modèle 2. De même, pour la validation croisée 5-Fold, le taux d'erreur du Modèle 1 est de 0.254, alors que celui du Modèle 2 est de 0.26.\n",
    "\n",
    "Ces résultats indiquent que le Modèle 1, malgré sa simplicité, est légèrement plus performant que le Modèle 2, sans nécessiter de termes quadratiques supplémentaires. **Cette performance légèrement supérieure, combinée à la simplicité du modèle linéaire, suggère que le Modèle 1 est plus adapté pour la classification des données dans ce contexte.**"
   ]
  },
  {
   "cell_type": "markdown",
   "id": "375ae59c",
   "metadata": {},
   "source": [
    "### c) Analyse discriminante."
   ]
  },
  {
   "cell_type": "code",
   "execution_count": 167,
   "id": "19575076",
   "metadata": {},
   "outputs": [],
   "source": [
    "# Liste pour stocker les résultats\n",
    "results <- list()\n",
    "\n",
    "# LDA avec LOOCV\n",
    "lda_loocv <- train(\n",
    "  health ~ age + wage,\n",
    "  data = df,\n",
    "  method = \"lda\",\n",
    "  trControl = trainControl(method = \"LOOCV\")\n",
    ")\n",
    "\n",
    "lda_loocv_error <- 1 - max(lda_loocv$results$Accuracy)\n",
    "results$lda_loocv <- lda_loocv_error\n",
    "\n",
    "# LDA avec 5-Fold CV\n",
    "lda_5fold <- train(\n",
    "  health ~ age + wage,\n",
    "  data = df,\n",
    "  method = \"lda\",\n",
    "  trControl = trainControl(method = \"cv\", number = 5)\n",
    ")\n",
    "\n",
    "lda_5fold_error <- 1 - max(lda_5fold$results$Accuracy)  # Correction ici\n",
    "results$lda_5fold <- lda_5fold_error\n",
    "\n",
    "# QDA avec LOOCV\n",
    "qda_loocv <- train(\n",
    "  health ~ age + wage,\n",
    "  data = df,\n",
    "  method = \"qda\",\n",
    "  trControl = trainControl(method = \"LOOCV\")\n",
    ")\n",
    "\n",
    "qda_loocv_error <- 1 - max(qda_loocv$results$Accuracy)\n",
    "results$qda_loocv <- qda_loocv_error\n",
    "\n",
    "# QDA avec 5-Fold CV\n",
    "qda_5fold <- train(\n",
    "  health ~ age + wage,\n",
    "  data = df,\n",
    "  method = \"qda\",\n",
    "  trControl = trainControl(method = \"cv\", number = 5)\n",
    ")\n",
    "\n",
    "qda_5fold_error <- 1 - max(qda_5fold$results$Accuracy)\n",
    "results$qda_5fold <- qda_5fold_error  # Correction ici"
   ]
  },
  {
   "cell_type": "code",
   "execution_count": 168,
   "id": "ef57951e",
   "metadata": {},
   "outputs": [
    {
     "name": "stdout",
     "output_type": "stream",
     "text": [
      "Taux d'erreur pour LDA - LOOCV : 0.258 \n",
      "Taux d'erreur pour LDA - 5-Fold CV : 0.25 \n",
      "Taux d'erreur pour QDA - LOOCV : 0.27 \n",
      "Taux d'erreur pour QDA - 5-Fold CV : 0.272 \n"
     ]
    }
   ],
   "source": [
    "# Affichage des résultats\n",
    "cat(\"Taux d'erreur pour LDA - LOOCV :\", results$lda_loocv, \"\\n\")\n",
    "cat(\"Taux d'erreur pour LDA - 5-Fold CV :\", results$lda_5fold, \"\\n\")\n",
    "cat(\"Taux d'erreur pour QDA - LOOCV :\", results$qda_loocv, \"\\n\")\n",
    "cat(\"Taux d'erreur pour QDA - 5-Fold CV :\", results$qda_5fold, \"\\n\")"
   ]
  },
  {
   "cell_type": "markdown",
   "id": "53b6afbc",
   "metadata": {},
   "source": [
    "On observe que l'Analyse Discriminante Linéaire (LDA) présente des taux d'erreur légèrement inférieurs à ceux de l'Analyse Discriminante Quadratique (QDA) pour les deux méthodes de validation croisée appliquées. En effet, avec la validation croisée LOOCV, LDA obtient un taux d'erreur de 0.258 contre 0.27 pour QDA. De même, pour la validation croisée 5-Fold, le taux d'erreur de LDA est de 0.254, tandis que celui de QDA est de 0.272.\n",
    "\n",
    "Ces résultats montrent que LDA, malgré sa simplicité, est légèrement plus performant que QDA dans ce contexte, sans nécessiter la complexité supplémentaire associée aux termes quadratiques de QDA. La performance supérieure de **LDA**, combinée à sa simplicité, suggère qu'il est le modèle le mieux adapté pour la classification des données dans ce cas."
   ]
  },
  {
   "cell_type": "markdown",
   "id": "e27776b4",
   "metadata": {},
   "source": [
    "### d) Résumé graphique et comparaison des méthodes."
   ]
  },
  {
   "cell_type": "code",
   "execution_count": 87,
   "id": "cb7c6211",
   "metadata": {},
   "outputs": [
    {
     "name": "stderr",
     "output_type": "stream",
     "text": [
      "Installation du package dans 'C:/Users/gpres/AppData/Local/R/win-library/4.4'\n",
      "(car 'lib' n'est pas spécifié)\n",
      "\n"
     ]
    },
    {
     "name": "stdout",
     "output_type": "stream",
     "text": [
      "le package 'gridExtra' a été décompressé et les sommes MD5 ont été vérifiées avec succés\n",
      "\n",
      "Les packages binaires téléchargés sont dans\n",
      "\tC:\\Users\\gpres\\AppData\\Local\\Temp\\RtmpqeiLK8\\downloaded_packages\n"
     ]
    }
   ],
   "source": [
    "install.packages(\"gridExtra\")"
   ]
  },
  {
   "cell_type": "code",
   "execution_count": 88,
   "id": "9d69a37e",
   "metadata": {},
   "outputs": [
    {
     "name": "stderr",
     "output_type": "stream",
     "text": [
      "Installation du package dans 'C:/Users/gpres/AppData/Local/R/win-library/4.4'\n",
      "(car 'lib' n'est pas spécifié)\n",
      "\n"
     ]
    },
    {
     "name": "stdout",
     "output_type": "stream",
     "text": [
      "le package 'MASS' a été décompressé et les sommes MD5 ont été vérifiées avec succés\n"
     ]
    },
    {
     "name": "stderr",
     "output_type": "stream",
     "text": [
      "Warning message:\n",
      "\"impossible de supprimer l'installation précédente du package 'MASS'\"\n",
      "Warning message in file.copy(savedcopy, lib, recursive = TRUE):\n",
      "\"problème lors de la copie de C:\\Users\\gpres\\AppData\\Local\\R\\win-library\\4.4\\00LOCK\\MASS\\libs\\x64\\MASS.dll vers C:\\Users\\gpres\\AppData\\Local\\R\\win-library\\4.4\\MASS\\libs\\x64\\MASS.dll : Permission denied\"\n",
      "Warning message:\n",
      "\"'MASS' restauré\"\n"
     ]
    },
    {
     "name": "stdout",
     "output_type": "stream",
     "text": [
      "\n",
      "Les packages binaires téléchargés sont dans\n",
      "\tC:\\Users\\gpres\\AppData\\Local\\Temp\\RtmpqeiLK8\\downloaded_packages\n"
     ]
    }
   ],
   "source": [
    "install.packages(\"MASS\")"
   ]
  },
  {
   "cell_type": "code",
   "execution_count": 89,
   "id": "e4e679eb",
   "metadata": {},
   "outputs": [
    {
     "name": "stderr",
     "output_type": "stream",
     "text": [
      "Warning message:\n",
      "\"le package 'gridExtra' a été compilé avec la version R 4.4.2\"\n"
     ]
    }
   ],
   "source": [
    "library(gridExtra)"
   ]
  },
  {
   "cell_type": "code",
   "execution_count": 90,
   "id": "272c1d14",
   "metadata": {},
   "outputs": [
    {
     "name": "stderr",
     "output_type": "stream",
     "text": [
      "Warning message:\n",
      "\"le package 'MASS' a été compilé avec la version R 4.4.2\"\n",
      "\n",
      "Attachement du package : 'MASS'\n",
      "\n",
      "\n",
      "L'objet suivant est masqué depuis 'package:ISLR2':\n",
      "\n",
      "    Boston\n",
      "\n",
      "\n"
     ]
    }
   ],
   "source": [
    "library(MASS)"
   ]
  },
  {
   "cell_type": "code",
   "execution_count": 91,
   "id": "cf556fe3",
   "metadata": {},
   "outputs": [],
   "source": [
    "# Création d'une grille de points pour tracer les frontières de décision\n",
    "x1_range <- seq(min(df$age), max(df$age), length.out = 100)\n",
    "x2_range <- seq(min(df$wage), max(df$wage), length.out = 100)\n",
    "grid <- expand.grid(age = x1_range, wage = x2_range)"
   ]
  },
  {
   "cell_type": "markdown",
   "id": "b7c9359c",
   "metadata": {},
   "source": [
    "##### Ajout des frontières de décision pour chaque modèle"
   ]
  },
  {
   "cell_type": "code",
   "execution_count": 92,
   "id": "e6fdd80e",
   "metadata": {},
   "outputs": [],
   "source": [
    "# KNN\n",
    "knn_model <- knn3(\n",
    "  health ~ age + wage,\n",
    "  data = df,\n",
    "  k = 21)\n",
    "\n",
    "grid$knn <- as.numeric(predict(knn_model, newdata = grid, type=\"class\")==\"2. >=Very Good\")"
   ]
  },
  {
   "cell_type": "code",
   "execution_count": 93,
   "id": "03f76118",
   "metadata": {},
   "outputs": [],
   "source": [
    "# Régression Logistique\n",
    "grid$logistic <- as.numeric(predict(fold5_modele1, newdata = grid, type = \"prob\")[, \"2. >=Very Good\"] > 0.5)"
   ]
  },
  {
   "cell_type": "code",
   "execution_count": 94,
   "id": "299b441d",
   "metadata": {},
   "outputs": [],
   "source": [
    "# Analyse discriminante\n",
    "grid$lda <- as.numeric(predict(lda_5fold, newdata = grid) == \"2. >=Very Good\")"
   ]
  },
  {
   "cell_type": "code",
   "execution_count": 162,
   "id": "4d9bb0a4",
   "metadata": {},
   "outputs": [
    {
     "name": "stderr",
     "output_type": "stream",
     "text": [
      "\u001b[1m\u001b[22mDon't know how to automatically pick scale for object of type \u001b[34m<function>\u001b[39m.\n",
      "Defaulting to continuous.\n",
      "ERROR while rich displaying an object: \u001b[1m\u001b[33mError\u001b[39m in `geom_contour()`:\u001b[22m\n",
      "\u001b[1m\u001b[22m\u001b[33m!\u001b[39m Problem while computing aesthetics.\n",
      "\u001b[36mℹ\u001b[39m Error occurred in the 4th layer.\n",
      "\u001b[1mCaused by error in `compute_aesthetics()`:\u001b[22m\n",
      "\u001b[1m\u001b[22m\u001b[33m!\u001b[39m Aesthetics are not valid data columns.\n",
      "\u001b[31m✖\u001b[39m The following aesthetics are invalid:\n",
      "\u001b[31m✖\u001b[39m `z = lda`\n",
      "\u001b[36mℹ\u001b[39m Did you mistype the name of a data column or forget to add `after_stat()`?\n",
      "\n",
      "Traceback:\n",
      "1. tryCatch(withCallingHandlers({\n",
      " .     if (!mime %in% names(repr::mime2repr)) \n",
      " .         stop(\"No repr_* for mimetype \", mime, \" in repr::mime2repr\")\n",
      " .     rpr <- repr::mime2repr[[mime]](obj)\n",
      " .     if (is.null(rpr)) \n",
      " .         return(NULL)\n",
      " .     prepare_content(is.raw(rpr), rpr)\n",
      " . }, error = error_handler), error = outer_handler)\n",
      "2. tryCatchList(expr, classes, parentenv, handlers)\n",
      "3. tryCatchOne(expr, names, parentenv, handlers[[1L]])\n",
      "4. doTryCatch(return(expr), name, parentenv, handler)\n",
      "5. withCallingHandlers({\n",
      " .     if (!mime %in% names(repr::mime2repr)) \n",
      " .         stop(\"No repr_* for mimetype \", mime, \" in repr::mime2repr\")\n",
      " .     rpr <- repr::mime2repr[[mime]](obj)\n",
      " .     if (is.null(rpr)) \n",
      " .         return(NULL)\n",
      " .     prepare_content(is.raw(rpr), rpr)\n",
      " . }, error = error_handler)\n",
      "6. repr::mime2repr[[mime]](obj)\n",
      "7. repr_text.default(obj)\n",
      "8. paste(capture.output(print(obj)), collapse = \"\\n\")\n",
      "9. capture.output(print(obj))\n",
      "10. withVisible(...elt(i))\n",
      "11. print(obj)\n",
      "12. print.ggplot(obj)\n",
      "13. ggplot_build(x)\n",
      "14. ggplot_build.ggplot(x)\n",
      "15. by_layer(function(l, d) l$compute_aesthetics(d, plot), layers, \n",
      "  .     data, \"computing aesthetics\")\n",
      "16. try_fetch(for (i in seq_along(data)) {\n",
      "  .     out[[i]] <- f(l = layers[[i]], d = data[[i]])\n",
      "  . }, error = function(cnd) {\n",
      "  .     cli::cli_abort(c(\"Problem while {step}.\", i = \"Error occurred in the {ordinal(i)} layer.\"), \n",
      "  .         call = layers[[i]]$constructor, parent = cnd)\n",
      "  . })\n",
      "17. tryCatch(withCallingHandlers(expr, condition = function(cnd) {\n",
      "  .     {\n",
      "  .         .__handler_frame__. <- TRUE\n",
      "  .         .__setup_frame__. <- frame\n",
      "  .         if (inherits(cnd, \"message\")) {\n",
      "  .             except <- c(\"warning\", \"error\")\n",
      "  .         }\n",
      "  .         else if (inherits(cnd, \"warning\")) {\n",
      "  .             except <- \"error\"\n",
      "  .         }\n",
      "  .         else {\n",
      "  .             except <- \"\"\n",
      "  .         }\n",
      "  .     }\n",
      "  .     while (!is_null(cnd)) {\n",
      "  .         if (inherits(cnd, \"error\")) {\n",
      "  .             out <- handlers[[1L]](cnd)\n",
      "  .             if (!inherits(out, \"rlang_zap\")) \n",
      "  .                 throw(out)\n",
      "  .         }\n",
      "  .         inherit <- .subset2(.subset2(cnd, \"rlang\"), \"inherit\")\n",
      "  .         if (is_false(inherit)) {\n",
      "  .             return()\n",
      "  .         }\n",
      "  .         cnd <- .subset2(cnd, \"parent\")\n",
      "  .     }\n",
      "  . }), stackOverflowError = handlers[[1L]])\n",
      "18. tryCatchList(expr, classes, parentenv, handlers)\n",
      "19. tryCatchOne(expr, names, parentenv, handlers[[1L]])\n",
      "20. doTryCatch(return(expr), name, parentenv, handler)\n",
      "21. withCallingHandlers(expr, condition = function(cnd) {\n",
      "  .     {\n",
      "  .         .__handler_frame__. <- TRUE\n",
      "  .         .__setup_frame__. <- frame\n",
      "  .         if (inherits(cnd, \"message\")) {\n",
      "  .             except <- c(\"warning\", \"error\")\n",
      "  .         }\n",
      "  .         else if (inherits(cnd, \"warning\")) {\n",
      "  .             except <- \"error\"\n",
      "  .         }\n",
      "  .         else {\n",
      "  .             except <- \"\"\n",
      "  .         }\n",
      "  .     }\n",
      "  .     while (!is_null(cnd)) {\n",
      "  .         if (inherits(cnd, \"error\")) {\n",
      "  .             out <- handlers[[1L]](cnd)\n",
      "  .             if (!inherits(out, \"rlang_zap\")) \n",
      "  .                 throw(out)\n",
      "  .         }\n",
      "  .         inherit <- .subset2(.subset2(cnd, \"rlang\"), \"inherit\")\n",
      "  .         if (is_false(inherit)) {\n",
      "  .             return()\n",
      "  .         }\n",
      "  .         cnd <- .subset2(cnd, \"parent\")\n",
      "  .     }\n",
      "  . })\n",
      "22. f(l = layers[[i]], d = data[[i]])\n",
      "23. l$compute_aesthetics(d, plot)\n",
      "24. compute_aesthetics(..., self = self)\n",
      "25. cli::cli_abort(c(\"Aesthetics are not valid data columns.\", x = \"The following aesthetics are invalid:\", \n",
      "  .     issues, i = \"Did you mistype the name of a data column or forget to add {.fn after_stat}?\"))\n",
      "26. rlang::abort(message, ..., call = call, use_cli_format = TRUE, \n",
      "  .     .frame = .frame)\n",
      "27. signal_abort(cnd, .file)\n",
      "28. signalCondition(cnd)\n",
      "29. (function (cnd) \n",
      "  . {\n",
      "  .     {\n",
      "  .         .__handler_frame__. <- TRUE\n",
      "  .         .__setup_frame__. <- frame\n",
      "  .         if (inherits(cnd, \"message\")) {\n",
      "  .             except <- c(\"warning\", \"error\")\n",
      "  .         }\n",
      "  .         else if (inherits(cnd, \"warning\")) {\n",
      "  .             except <- \"error\"\n",
      "  .         }\n",
      "  .         else {\n",
      "  .             except <- \"\"\n",
      "  .         }\n",
      "  .     }\n",
      "  .     while (!is_null(cnd)) {\n",
      "  .         if (inherits(cnd, \"error\")) {\n",
      "  .             out <- handlers[[1L]](cnd)\n",
      "  .             if (!inherits(out, \"rlang_zap\")) \n",
      "  .                 throw(out)\n",
      "  .         }\n",
      "  .         inherit <- .subset2(.subset2(cnd, \"rlang\"), \"inherit\")\n",
      "  .         if (is_false(inherit)) {\n",
      "  .             return()\n",
      "  .         }\n",
      "  .         cnd <- .subset2(cnd, \"parent\")\n",
      "  .     }\n",
      "  . })(structure(list(message = structure(\"Aesthetics are not valid data columns.\", names = \"\"), \n",
      "  .     trace = structure(list(call = list(IRkernel::main(), kernel$run(), \n",
      "  .         handle_shell(), executor$execute(msg), tryCatch(evaluate(request$content$code, \n",
      "  .             envir = .GlobalEnv, output_handler = oh, stop_on_error = 1L), \n",
      "  .             interrupt = function(cond) {\n",
      "  .                 log_debug(\"Interrupt during execution\")\n",
      "  .                 interrupted <<- TRUE\n",
      "  .             }, error = .self$handle_error), tryCatchList(expr, \n",
      "  .             classes, parentenv, handlers), tryCatchOne(tryCatchList(expr, \n",
      "  .             names[-nh], parentenv, handlers[-nh]), names[nh], \n",
      "  .             parentenv, handlers[[nh]]), doTryCatch(return(expr), \n",
      "  .             name, parentenv, handler), tryCatchList(expr, names[-nh], \n",
      "  .             parentenv, handlers[-nh]), tryCatchOne(expr, names, \n",
      "  .             parentenv, handlers[[1L]]), doTryCatch(return(expr), \n",
      "  .             name, parentenv, handler), evaluate(request$content$code, \n",
      "  .             envir = .GlobalEnv, output_handler = oh, stop_on_error = 1L), \n",
      "  .         evaluate_call(expr, parsed$src[[i]], envir = envir, enclos = enclos, \n",
      "  .             debug = debug, last = i == length(out), use_try = stop_on_error != \n",
      "  .                 2L, keep_warning = keep_warning, keep_message = keep_message, \n",
      "  .             log_echo = log_echo, log_warning = log_warning, output_handler = output_handler, \n",
      "  .             include_timing = include_timing), handle(pv <- withCallingHandlers(withVisible(value_fun(ev$value, \n",
      "  .             ev$visible)), warning = wHandler, error = eHandler, \n",
      "  .             message = mHandler)), try(f, silent = TRUE), tryCatch(expr, \n",
      "  .             error = function(e) {\n",
      "  .                 call <- conditionCall(e)\n",
      "  .                 if (!is.null(call)) {\n",
      "  .                   if (identical(call[[1L]], quote(doTryCatch))) \n",
      "  .                     call <- sys.call(-4L)\n",
      "  .                   dcall <- deparse(call, nlines = 1L)\n",
      "  .                   prefix <- paste(\"Error in\", dcall, \": \")\n",
      "  .                   LONG <- 75L\n",
      "  .                   sm <- strsplit(conditionMessage(e), \"\\n\")[[1L]]\n",
      "  .                   w <- 14L + nchar(dcall, type = \"w\") + nchar(sm[1L], \n",
      "  .                     type = \"w\")\n",
      "  .                   if (is.na(w)) \n",
      "  .                     w <- 14L + nchar(dcall, type = \"b\") + nchar(sm[1L], \n",
      "  .                       type = \"b\")\n",
      "  .                   if (w > LONG) \n",
      "  .                     prefix <- paste0(prefix, \"\\n  \")\n",
      "  .                 }\n",
      "  .                 else prefix <- \"Error : \"\n",
      "  .                 msg <- paste0(prefix, conditionMessage(e), \"\\n\")\n",
      "  .                 .Internal(seterrmessage(msg[1L]))\n",
      "  .                 if (!silent && isTRUE(getOption(\"show.error.messages\"))) {\n",
      "  .                   cat(msg, file = outFile)\n",
      "  .                   .Internal(printDeferredWarnings())\n",
      "  .                 }\n",
      "  .                 invisible(structure(msg, class = \"try-error\", \n",
      "  .                   condition = e))\n",
      "  .             }), tryCatchList(expr, classes, parentenv, handlers), \n",
      "  .         tryCatchOne(expr, names, parentenv, handlers[[1L]]), \n",
      "  .         doTryCatch(return(expr), name, parentenv, handler), withCallingHandlers(withVisible(value_fun(ev$value, \n",
      "  .             ev$visible)), warning = wHandler, error = eHandler, \n",
      "  .             message = mHandler), withVisible(value_fun(ev$value, \n",
      "  .             ev$visible)), value_fun(ev$value, ev$visible), prepare_mimebundle_kernel(obj, \n",
      "  .             .self$handle_display_error), prepare_mimebundle(obj, \n",
      "  .             \"text/plain\", error_handler = handle_display_error), \n",
      "  .         filter_map(mimetypes, function(mime) {\n",
      "  .             tryCatch(withCallingHandlers({\n",
      "  .                 if (!mime %in% names(repr::mime2repr)) \n",
      "  .                   stop(\"No repr_* for mimetype \", mime, \" in repr::mime2repr\")\n",
      "  .                 rpr <- repr::mime2repr[[mime]](obj)\n",
      "  .                 if (is.null(rpr)) \n",
      "  .                   return(NULL)\n",
      "  .                 prepare_content(is.raw(rpr), rpr)\n",
      "  .             }, error = error_handler), error = outer_handler)\n",
      "  .         }), Filter(Negate(is.null), sapply(x, f, simplify = simplify)), \n",
      "  .         unlist(lapply(x, f)), lapply(x, f), sapply(x, f, simplify = simplify), \n",
      "  .         lapply(X = X, FUN = FUN, ...), FUN(X[[i]], ...), tryCatch(withCallingHandlers({\n",
      "  .             if (!mime %in% names(repr::mime2repr)) \n",
      "  .                 stop(\"No repr_* for mimetype \", mime, \" in repr::mime2repr\")\n",
      "  .             rpr <- repr::mime2repr[[mime]](obj)\n",
      "  .             if (is.null(rpr)) \n",
      "  .                 return(NULL)\n",
      "  .             prepare_content(is.raw(rpr), rpr)\n",
      "  .         }, error = error_handler), error = outer_handler), tryCatchList(expr, \n",
      "  .             classes, parentenv, handlers), tryCatchOne(expr, \n",
      "  .             names, parentenv, handlers[[1L]]), doTryCatch(return(expr), \n",
      "  .             name, parentenv, handler), withCallingHandlers({\n",
      "  .             if (!mime %in% names(repr::mime2repr)) \n",
      "  .                 stop(\"No repr_* for mimetype \", mime, \" in repr::mime2repr\")\n",
      "  .             rpr <- repr::mime2repr[[mime]](obj)\n",
      "  .             if (is.null(rpr)) \n",
      "  .                 return(NULL)\n",
      "  .             prepare_content(is.raw(rpr), rpr)\n",
      "  .         }, error = error_handler), repr::mime2repr[[mime]](obj), \n",
      "  .         repr_text.default(obj), paste(capture.output(print(obj)), \n",
      "  .             collapse = \"\\n\"), capture.output(print(obj)), withVisible(...elt(i)), \n",
      "  .         print(obj), print.ggplot(obj), ggplot_build(x), ggplot_build.ggplot(x), \n",
      "  .         by_layer(function(l, d) l$compute_aesthetics(d, plot), \n",
      "  .             layers, data, \"computing aesthetics\"), try_fetch(for (i in seq_along(data)) {\n",
      "  .             out[[i]] <- f(l = layers[[i]], d = data[[i]])\n",
      "  .         }, error = function(cnd) {\n",
      "  .             cli::cli_abort(c(\"Problem while {step}.\", i = \"Error occurred in the {ordinal(i)} layer.\"), \n",
      "  .                 call = layers[[i]]$constructor, parent = cnd)\n",
      "  .         }), tryCatch(withCallingHandlers(expr, condition = function(cnd) {\n",
      "  .             {\n",
      "  .                 .__handler_frame__. <- TRUE\n",
      "  .                 .__setup_frame__. <- frame\n",
      "  .                 if (inherits(cnd, \"message\")) {\n",
      "  .                   except <- c(\"warning\", \"error\")\n",
      "  .                 }\n",
      "  .                 else if (inherits(cnd, \"warning\")) {\n",
      "  .                   except <- \"error\"\n",
      "  .                 }\n",
      "  .                 else {\n",
      "  .                   except <- \"\"\n",
      "  .                 }\n",
      "  .             }\n",
      "  .             while (!is_null(cnd)) {\n",
      "  .                 if (inherits(cnd, \"error\")) {\n",
      "  .                   out <- handlers[[1L]](cnd)\n",
      "  .                   if (!inherits(out, \"rlang_zap\")) \n",
      "  .                     throw(out)\n",
      "  .                 }\n",
      "  .                 inherit <- .subset2(.subset2(cnd, \"rlang\"), \"inherit\")\n",
      "  .                 if (is_false(inherit)) {\n",
      "  .                   return()\n",
      "  .                 }\n",
      "  .                 cnd <- .subset2(cnd, \"parent\")\n",
      "  .             }\n",
      "  .         }), stackOverflowError = handlers[[1L]]), tryCatchList(expr, \n",
      "  .             classes, parentenv, handlers), tryCatchOne(expr, \n",
      "  .             names, parentenv, handlers[[1L]]), doTryCatch(return(expr), \n",
      "  .             name, parentenv, handler), withCallingHandlers(expr, \n",
      "  .             condition = function(cnd) {\n",
      "  .                 {\n",
      "  .                   .__handler_frame__. <- TRUE\n",
      "  .                   .__setup_frame__. <- frame\n",
      "  .                   if (inherits(cnd, \"message\")) {\n",
      "  .                     except <- c(\"warning\", \"error\")\n",
      "  .                   }\n",
      "  .                   else if (inherits(cnd, \"warning\")) {\n",
      "  .                     except <- \"error\"\n",
      "  .                   }\n",
      "  .                   else {\n",
      "  .                     except <- \"\"\n",
      "  .                   }\n",
      "  .                 }\n",
      "  .                 while (!is_null(cnd)) {\n",
      "  .                   if (inherits(cnd, \"error\")) {\n",
      "  .                     out <- handlers[[1L]](cnd)\n",
      "  .                     if (!inherits(out, \"rlang_zap\")) \n",
      "  .                       throw(out)\n",
      "  .                   }\n",
      "  .                   inherit <- .subset2(.subset2(cnd, \"rlang\"), \n",
      "  .                     \"inherit\")\n",
      "  .                   if (is_false(inherit)) {\n",
      "  .                     return()\n",
      "  .                   }\n",
      "  .                   cnd <- .subset2(cnd, \"parent\")\n",
      "  .                 }\n",
      "  .             }), f(l = layers[[i]], d = data[[i]]), l$compute_aesthetics(d, \n",
      "  .             plot), compute_aesthetics(..., self = self), cli::cli_abort(c(\"Aesthetics are not valid data columns.\", \n",
      "  .             x = \"The following aesthetics are invalid:\", issues, \n",
      "  .             i = \"Did you mistype the name of a data column or forget to add {.fn after_stat}?\")), \n",
      "  .         rlang::abort(message, ..., call = call, use_cli_format = TRUE, \n",
      "  .             .frame = .frame)), parent = c(0L, 1L, 2L, 3L, 4L, \n",
      "  .     5L, 6L, 7L, 6L, 9L, 10L, 4L, 12L, 13L, 14L, 15L, 16L, 17L, \n",
      "  .     18L, 13L, 13L, 13L, 22L, 23L, 24L, 25L, 26L, 26L, 25L, 29L, \n",
      "  .     30L, 31L, 32L, 33L, 34L, 31L, 31L, 31L, 38L, 38L, 40L, 38L, \n",
      "  .     38L, 43L, 43L, 45L, 46L, 47L, 48L, 49L, 50L, 47L, 46L, 53L, \n",
      "  .     54L, 55L, 56L), visible = c(TRUE, TRUE, TRUE, TRUE, TRUE, \n",
      "  .     TRUE, TRUE, TRUE, TRUE, TRUE, TRUE, TRUE, TRUE, TRUE, TRUE, \n",
      "  .     TRUE, TRUE, TRUE, TRUE, TRUE, TRUE, TRUE, TRUE, TRUE, TRUE, \n",
      "  .     TRUE, TRUE, TRUE, TRUE, TRUE, TRUE, TRUE, TRUE, TRUE, TRUE, \n",
      "  .     TRUE, TRUE, TRUE, TRUE, TRUE, TRUE, TRUE, TRUE, TRUE, TRUE, \n",
      "  .     TRUE, TRUE, TRUE, TRUE, TRUE, TRUE, TRUE, TRUE, TRUE, TRUE, \n",
      "  .     FALSE, FALSE), namespace = c(\"IRkernel\", NA, \"IRkernel\", \n",
      "  .     NA, \"base\", \"base\", \"base\", \"base\", \"base\", \"base\", \"base\", \n",
      "  .     \"evaluate\", \"evaluate\", \"evaluate\", \"base\", \"base\", \"base\", \n",
      "  .     \"base\", \"base\", \"base\", \"base\", \"IRkernel\", \"IRkernel\", \"IRdisplay\", \n",
      "  .     \"IRdisplay\", \"base\", \"base\", \"base\", \"base\", \"base\", \"IRdisplay\", \n",
      "  .     \"base\", \"base\", \"base\", \"base\", \"base\", NA, \"repr\", \"base\", \n",
      "  .     \"utils\", \"base\", \"base\", \"ggplot2\", \"ggplot2\", \"ggplot2\", \n",
      "  .     \"ggplot2\", \"rlang\", \"base\", \"base\", \"base\", \"base\", \"base\", \n",
      "  .     \"ggplot2\", NA, \"ggplot2\", \"cli\", \"rlang\"), scope = c(\"::\", \n",
      "  .     NA, \"local\", NA, \"::\", \"local\", \"local\", \"local\", \"local\", \n",
      "  .     \"local\", \"local\", \"::\", \":::\", \"local\", \"::\", \"::\", \"local\", \n",
      "  .     \"local\", \"local\", \"::\", \"::\", \"local\", \":::\", \"::\", \":::\", \n",
      "  .     \"::\", \"::\", \"::\", \"::\", \"::\", \"local\", \"::\", \"local\", \"local\", \n",
      "  .     \"local\", \"::\", NA, \":::\", \"::\", \"::\", \"::\", \"::\", \":::\", \n",
      "  .     \"::\", \":::\", \":::\", \"::\", \"::\", \"local\", \"local\", \"local\", \n",
      "  .     \"::\", \"local\", NA, \"local\", \"::\", \"::\"), error_frame = c(FALSE, \n",
      "  .     FALSE, FALSE, FALSE, FALSE, FALSE, FALSE, FALSE, FALSE, FALSE, \n",
      "  .     FALSE, FALSE, FALSE, FALSE, FALSE, FALSE, FALSE, FALSE, FALSE, \n",
      "  .     FALSE, FALSE, FALSE, FALSE, FALSE, FALSE, FALSE, FALSE, FALSE, \n",
      "  .     FALSE, FALSE, FALSE, FALSE, FALSE, FALSE, FALSE, FALSE, FALSE, \n",
      "  .     FALSE, FALSE, FALSE, FALSE, FALSE, FALSE, FALSE, FALSE, FALSE, \n",
      "  .     FALSE, FALSE, FALSE, FALSE, FALSE, FALSE, FALSE, FALSE, TRUE, \n",
      "  .     FALSE, FALSE)), row.names = c(NA, -57L), version = 2L, class = c(\"rlang_trace\", \n",
      "  .     \"rlib_trace\", \"tbl\", \"data.frame\")), parent = NULL, body = c(x = \"The following aesthetics are invalid:\", \n",
      "  .     x = \"`z = lda`\", i = \"Did you mistype the name of a data column or forget to add `after_stat()`?\"\n",
      "  .     ), rlang = list(inherit = TRUE), call = compute_aesthetics(..., \n",
      "  .         self = self), use_cli_format = TRUE), class = c(\"rlang_error\", \n",
      "  . \"error\", \"condition\")))\n",
      "30. handlers[[1L]](cnd)\n",
      "31. cli::cli_abort(c(\"Problem while {step}.\", i = \"Error occurred in the {ordinal(i)} layer.\"), \n",
      "  .     call = layers[[i]]$constructor, parent = cnd)\n",
      "32. rlang::abort(message, ..., call = call, use_cli_format = TRUE, \n",
      "  .     .frame = .frame)\n",
      "33. signal_abort(cnd, .file)\n"
     ]
    }
   ],
   "source": [
    "ggplot(df, aes(x = age, y = wage, color = health)) +\n",
    "  geom_point(alpha = 0.7) +\n",
    "  scale_color_manual(values = c(\"1. <=Good\" = \"blue\", \"2. >=Very Good\" = \"orange\"), name = \"Health\") +\n",
    "  \n",
    "  # Ajouter les frontières de décision pour chaque modèle\n",
    "  geom_contour(data = grid, aes(x = age, y = wage, z = knn, linetype = \"KNN\"), breaks = 0.5, color = \"purple\", size = 1) +\n",
    "  geom_contour(data = grid, aes(x = age, y = wage, z = logistic, linetype = \"Régression Logistique\"), breaks = 0.5, color = \"black\", size = 1) +\n",
    "  geom_contour(data = grid, aes(x = age, y = wage, z = lda, linetype = \"LDA\"), breaks = 0.5, color = \"red\", size = 1) +\n",
    "  \n",
    "  # Ajout de la légende pour les types de frontière\n",
    "  scale_linetype_manual(\n",
    "    name = \"Frontières de décision\",\n",
    "    values = c(\"KNN\" = \"dashed\", \"Régression Logistique\" = \"solid\", \"LDA\" = \"dotted\")\n",
    "  ) +\n",
    "  \n",
    "  labs(title = \"Comparaison des frontières de décision : KNN, Régression Logistique et LDA\",\n",
    "       x = \"Age\", y = \"Wage\") +\n",
    "  theme_minimal() +\n",
    "  theme(legend.position = \"top\")"
   ]
  },
  {
   "cell_type": "code",
   "execution_count": 164,
   "id": "a0f875f0",
   "metadata": {},
   "outputs": [
    {
     "ename": "ERROR",
     "evalue": "Error in predict(lda_5fold, newdata = grid)$posterior: $ operator is invalid for atomic vectors\n",
     "output_type": "error",
     "traceback": [
      "Error in predict(lda_5fold, newdata = grid)$posterior: $ operator is invalid for atomic vectors\nTraceback:\n"
     ]
    }
   ],
   "source": [
    "# Charger les packages nécessaires\n",
    "if (!requireNamespace(\"caret\", quietly = TRUE)) install.packages(\"caret\")\n",
    "if (!requireNamespace(\"class\", quietly = TRUE)) install.packages(\"class\")\n",
    "library(caret)\n",
    "library(class)\n",
    "\n",
    "# Fixer une graine pour la reproductibilité\n",
    "set.seed(2305686)\n",
    "\n",
    "# Transformation des données : convertir les classes en numérique\n",
    "y <- ifelse(df$health == \"1. <=Good\", 0, 1)  # 0 pour \"1. <=Good\", 1 pour \"2. >=Very Good\"\n",
    "X <- df[, c('age', 'wage')]\n",
    "\n",
    "# Définition des plages pour les axes\n",
    "age_range <- seq(min(X$age), max(X$age), length.out = 100)\n",
    "wage_range <- seq(min(X$wage), max(X$wage), length.out = 100)\n",
    "\n",
    "# Grille pour les prédictions\n",
    "grid <- expand.grid(age = age_range, wage = wage_range)\n",
    "\n",
    "# Nombre de voisins pour KNN\n",
    "best_k <- 10\n",
    "\n",
    "# Prédictions pour KNN avec knn3\n",
    "knn_model <- knn3(\n",
    "  health ~ age + wage,\n",
    "  data = df,\n",
    "  k = best_k\n",
    ")\n",
    "\n",
    "# Ajout des prédictions KNN dans la grille\n",
    "grid$knn <- as.numeric(predict(knn_model, newdata = grid, type = \"class\") == \"2. >=Very Good\")\n",
    "\n",
    "# Analyse discriminante\n",
    "grid$lda <- as.numeric(predict(lda_5fold, newdata = grid) == \"2. >=Very Good\")\n",
    "\n",
    "# Prédictions pour la régression logistique\n",
    "prob_logistic <- predict(fold5_modele1, newdata = grid, type = \"prob\")[, \"2. >=Very Good\"]\n",
    "prob_logist_mat <- matrix(prob_logistic, nrow = length(age_range), ncol = length(wage_range))\n",
    "\n",
    "# Prédictions pour QDA\n",
    "prob_qda <- predict(lda_5fold, newdata = grid)$posterior[, \"2. >=Very Good\"]\n",
    "prob_qda <- matrix(prob_qda, nrow = length(age_range), ncol = length(wage_range))\n",
    "\n",
    "# Probabilités pour KNN (si nécessaires pour les points de la grille)\n",
    "prob <- attr(predict(knn_model, newdata = grid, type = \"prob\"), \"prob\")\n",
    "prob <- matrix(prob, nrow = length(age_range), ncol = length(wage_range))\n",
    "\n",
    "# Tracé du graphique\n",
    "plot(\n",
    "  X$age, X$wage, col = ifelse(y == 1, \"coral\", \"cornflowerblue\"), pch = 19,\n",
    "  main = \"Résumé graphique et comparaison des méthodes\", xlab = \"Age\", ylab = \"Wage\"\n",
    ")\n",
    "\n",
    "# Ajout des contours pour les frontières de décision\n",
    "contour(age_range, wage_range, prob, levels = 0.5, labels = \"10-Nearest Neighbour\", axes = TRUE, add = TRUE, \n",
    "        col = \"black\", lwd = 3, drawlabels = FALSE)\n",
    "contour(age_range, wage_range, prob_logist_mat, levels = 0.5, labels = \"Logistic regression\", add = TRUE, \n",
    "        axes = TRUE, col = \"green\", lwd = 3, drawlabels = FALSE)\n",
    "contour(age_range, wage_range, prob_qda, levels = 0.5, labels = \"QDA\", add = TRUE, \n",
    "        axes = TRUE, col = \"red\", lwd = 3, drawlabels = FALSE)\n",
    "\n",
    "# Points de la grille colorés selon les probabilités KNN\n",
    "gd <- expand.grid(x = age_range, y = wage_range)\n",
    "points(gd, pch = \".\", col = ifelse(prob > 0.5, \"coral\", \"cornflowerblue\"))\n",
    "\n",
    "# Ajout d'une légende\n",
    "legend(\n",
    "  \"topleft\", col = c(\"black\", \"green\", \"red\"), \n",
    "  legend = c(\"10-NN\", \"Régression logistique Modèle 2\", \"QDA\"),\n",
    "  lty = c(1, 1), lwd = c(3, 3)\n",
    ")\n"
   ]
  },
  {
   "cell_type": "code",
   "execution_count": 174,
   "id": "c23ffd31",
   "metadata": {},
   "outputs": [
    {
     "name": "stdout",
     "output_type": "stream",
     "text": [
      "[1] \"1. <=Good\"      \"2. >=Very Good\"\n"
     ]
    },
    {
     "data": {
      "image/png": "[encoded data removed]",
      "text/plain": [
       "Plot with title \"Résumé graphique et comparaison des méthodes\""
      ]
     },
     "metadata": {
      "image/png": {
       "height": 420,
       "width": 420
      }
     },
     "output_type": "display_data"
    }
   ],
   "source": [
    "# Conversion des labels pour correspondre au format attendu\n",
    "y <- ifelse(df$health == \"2. >=Very Good\", 1, 0)\n",
    "X <- df[, c('age', 'wage')]\n",
    "\n",
    "# Définition des plages pour l'âge et le salaire\n",
    "age_range <- seq(min(X$age), max(X$age), length.out = 100)\n",
    "wage_range <- seq(min(X$wage), max(X$wage), length.out = 100)\n",
    "\n",
    "# Création de la grille pour les prédictions\n",
    "grid <- expand.grid(age = age_range, wage = wage_range)\n",
    "\n",
    "# KNN prédictions\n",
    "best_k <- 21\n",
    "grid_pred <- knn(train = X, test = grid, cl = y, k = best_k, prob = TRUE)\n",
    "grid_pred_num <- as.numeric(grid_pred)\n",
    "\n",
    "# Probabilités pour KNN\n",
    "prob <- attr(grid_pred, \"prob\")\n",
    "prob <- ifelse(grid_pred == 1, prob, 1 - prob)\n",
    "\n",
    "# Vérification des colonnes retournées par predict pour le modèle logistique\n",
    "logistic_probs <- predict(fold5_modele1, newdata = grid, type = \"prob\")\n",
    "print(colnames(logistic_probs))  # Affiche les noms des colonnes pour vérifier\n",
    "\n",
    "# Sélection des probabilités de la classe \"2. >=Very Good\"\n",
    "class_name <- \"2. >=Very Good\"  # Remplacez par le bon nom si nécessaire\n",
    "if (class_name %in% colnames(logistic_probs)) {\n",
    "  prob_logistic <- logistic_probs[, class_name]\n",
    "} else {\n",
    "  stop(\"Le nom de la classe spécifié n'existe pas dans les colonnes des probabilités.\")\n",
    "}\n",
    "\n",
    "# Prédictions pour QDA\n",
    "qda_probs <- predict(lda_5fold, newdata = grid, type = \"prob\")\n",
    "if (class_name %in% colnames(qda_probs)) {\n",
    "  prob_qda <- qda_probs[, class_name]\n",
    "} else {\n",
    "  stop(\"Le nom de la classe spécifié n'existe pas dans les colonnes des probabilités pour QDA.\")\n",
    "}\n",
    "\n",
    "# Conversion en matrices pour les contours\n",
    "prob <- matrix(prob, nrow = length(age_range), ncol = length(wage_range))\n",
    "prob_logist_mat <- matrix(prob_logistic, nrow = length(age_range), ncol = length(wage_range))\n",
    "prob_qda <- matrix(prob_qda, nrow = length(age_range), ncol = length(wage_range))\n",
    "\n",
    "# Tracé des données et des frontières\n",
    "plot(\n",
    "  X$age, X$wage, col = ifelse(y == 1, \"coral\", \"cornflowerblue\"), pch = 19,\n",
    "  main = \"Résumé graphique et comparaison des méthodes\", xlab = \"age\", ylab = \"wage\"\n",
    ")\n",
    "\n",
    "# Ajout des contours pour chaque méthode\n",
    "contour(age_range, wage_range, prob, levels = 0.5, labels = \"10-Nearest Neighbour\", \n",
    "        axes = TRUE, add = TRUE, col = \"black\", lwd = 3, drawlabels = FALSE)\n",
    "contour(age_range, wage_range, prob_logist_mat, levels = 0.5, labels = \"Logistic regression\", \n",
    "        add = TRUE, axes = TRUE, col = \"green\", lwd = 3, drawlabels = FALSE)\n",
    "contour(age_range, wage_range, prob_qda, levels = 0.5, labels = \"QDA\", \n",
    "        add = TRUE, axes = TRUE, col = \"red\", lwd = 3, drawlabels = FALSE)\n",
    "\n",
    "# Points colorés selon les probabilités\n",
    "gd <- expand.grid(x = age_range, y = wage_range)\n",
    "points(gd, pch = \".\", col = ifelse(prob > 0.5, \"coral\", \"cornflowerblue\"))\n",
    "\n",
    "# Légende\n",
    "legend(\n",
    "  \"topleft\", col = c(\"black\", \"green\", \"red\"), \n",
    "  legend = c(\"21-NN\", \"Régression logistique\", \"QDA\"),\n",
    "  lty = c(1, 1), lwd = c(3, 3)\n",
    ")\n"
   ]
  },
  {
   "cell_type": "code",
   "execution_count": 33,
   "id": "2ef194dc",
   "metadata": {},
   "outputs": [
    {
     "name": "stdout",
     "output_type": "stream",
     "text": [
      "\n",
      "Matrice de Confusion pour KNN\n",
      "Confusion Matrix and Statistics\n",
      "\n",
      "                Reference\n",
      "Prediction       1. <=Good 2. >=Very Good\n",
      "  1. <=Good             20              9\n",
      "  2. >=Very Good       115            356\n",
      "                                          \n",
      "               Accuracy : 0.752           \n",
      "                 95% CI : (0.7117, 0.7893)\n",
      "    No Information Rate : 0.73            \n",
      "    P-Value [Acc > NIR] : 0.1449          \n",
      "                                          \n",
      "                  Kappa : 0.1641          \n",
      "                                          \n",
      " Mcnemar's Test P-Value : <2e-16          \n",
      "                                          \n",
      "            Sensitivity : 0.1481          \n",
      "            Specificity : 0.9753          \n",
      "         Pos Pred Value : 0.6897          \n",
      "         Neg Pred Value : 0.7558          \n",
      "             Prevalence : 0.2700          \n",
      "         Detection Rate : 0.0400          \n",
      "   Detection Prevalence : 0.0580          \n",
      "      Balanced Accuracy : 0.5617          \n",
      "                                          \n",
      "       'Positive' Class : 1. <=Good       \n",
      "                                          \n",
      "\n",
      "Matrice de Confusion pour la Régression Logistique\n",
      "Confusion Matrix and Statistics\n",
      "\n",
      "                Reference\n",
      "Prediction       1. <=Good 2. >=Very Good\n",
      "  1. <=Good             14              7\n",
      "  2. >=Very Good       121            358\n",
      "                                          \n",
      "               Accuracy : 0.744           \n",
      "                 95% CI : (0.7034, 0.7817)\n",
      "    No Information Rate : 0.73            \n",
      "    P-Value [Acc > NIR] : 0.2578          \n",
      "                                          \n",
      "                  Kappa : 0.1152          \n",
      "                                          \n",
      " Mcnemar's Test P-Value : <2e-16          \n",
      "                                          \n",
      "            Sensitivity : 0.1037          \n",
      "            Specificity : 0.9808          \n",
      "         Pos Pred Value : 0.6667          \n",
      "         Neg Pred Value : 0.7474          \n",
      "             Prevalence : 0.2700          \n",
      "         Detection Rate : 0.0280          \n",
      "   Detection Prevalence : 0.0420          \n",
      "      Balanced Accuracy : 0.5423          \n",
      "                                          \n",
      "       'Positive' Class : 1. <=Good       \n",
      "                                          \n",
      "\n",
      "Matrice de Confusion pour LDA\n",
      "Confusion Matrix and Statistics\n",
      "\n",
      "                Reference\n",
      "Prediction       1. <=Good 2. >=Very Good\n",
      "  1. <=Good             13              6\n",
      "  2. >=Very Good       122            359\n",
      "                                          \n",
      "               Accuracy : 0.744           \n",
      "                 95% CI : (0.7034, 0.7817)\n",
      "    No Information Rate : 0.73            \n",
      "    P-Value [Acc > NIR] : 0.2578          \n",
      "                                          \n",
      "                  Kappa : 0.1095          \n",
      "                                          \n",
      " Mcnemar's Test P-Value : <2e-16          \n",
      "                                          \n",
      "            Sensitivity : 0.0963          \n",
      "            Specificity : 0.9836          \n",
      "         Pos Pred Value : 0.6842          \n",
      "         Neg Pred Value : 0.7464          \n",
      "             Prevalence : 0.2700          \n",
      "         Detection Rate : 0.0260          \n",
      "   Detection Prevalence : 0.0380          \n",
      "      Balanced Accuracy : 0.5399          \n",
      "                                          \n",
      "       'Positive' Class : 1. <=Good       \n",
      "                                          \n"
     ]
    }
   ],
   "source": [
    "# Matrice de confusion pour KNN\n",
    "cat(\"\\nMatrice de Confusion pour KNN\\n\")\n",
    "knn_predictions <- predict(knn_model, newdata = df, type = \"class\")\n",
    "print(confusionMatrix(knn_predictions, df$health))\n",
    "\n",
    "# Matrice de confusion pour la Régression Logistique\n",
    "cat(\"\\nMatrice de Confusion pour la Régression Logistique\\n\")\n",
    "logistic_predictions <- predict(fold5_modele1, newdata = df)\n",
    "print(confusionMatrix(as.factor(logistic_predictions), df$health))\n",
    "\n",
    "# Matrice de confusion pour LDA\n",
    "cat(\"\\nMatrice de Confusion pour LDA\\n\")\n",
    "lda_predictions_train <- predict(lda_5fold, newdata = df)\n",
    "print(confusionMatrix(lda_predictions_train, df$health))\n"
   ]
  },
  {
   "cell_type": "markdown",
   "id": "e3f77fed",
   "metadata": {},
   "source": [
    "### Comparaison des modèles\n",
    "\n",
    "1. **KNN**\n",
    "   - **Précision globale** : 75,2% (indique qu'environ trois-quarts des prédictions sont correctes).\n",
    "   - **Sensibilité (Détection de \"Bon\")** : 14,8% – Le modèle KNN a du mal à détecter la classe \"Bon\" (classe minoritaire), avec seulement 14,8% des cas \"Bon\" correctement identifiés.\n",
    "   - **Spécificité (Détection de \" Très Bon\")** : 97,5% – Le modèle est très bon pour identifier la classe majoritaire \"Très Bon\", avec une spécificité élevée.\n",
    "   - **Analyse** : KNN semble adapté pour une détection fiable de \"Très Bon\", mais sa faible sensibilité indique une limitation pour identifier les individus \"Bon\".\n",
    "\n",
    "2. **Régression Logistique**\n",
    "   - **Précision globale** : 74,4%\n",
    "   - **Sensibilité** : 10,4% – Très faible pour détecter la classe \"Bon\", ce qui signifie que ce modèle rate souvent cette classe.\n",
    "   - **Spécificité** : 98,1% – Très bon pour la classe \"Très Bon\", montrant une capacité à bien prédire la classe majoritaire.\n",
    "   - **Analyse** : La régression logistique privilégie la détection de \"Très Bon\", mais au détriment de \"Bon\". Sa précision globale est similaire à KNN, mais avec une sensibilité plus faible.\n",
    "\n",
    "3. **Analyse Discriminante Linéaire (LDA)**\n",
    "   - **Précision globale** : 74,4%\n",
    "   - **Sensibilité** : 9,6% – Encore plus faible pour la détection de \"Bon\", ce qui montre une difficulté à identifier cette classe.\n",
    "   - **Spécificité** : 98,4% – Excellente pour la classe \"Très Bon\", semblable aux autres modèles dans la détection de la classe majoritaire.\n",
    "   - **Analyse** : Comme la régression logistique, LDA est performant pour \"Très Bon\" mais moins performant pour \"Bon\". Sa spécificité élevée indique une bonne fiabilité pour détecter les cas \"Très Bon\".\n",
    "\n",
    "### Conclusion\n",
    "Le modèle **KNN** est globalement plus équilibré en termes de précision, bien qu'il montre des limites dans la détection de \"Bon\". La **régression logistique** et **LDA** offrent une précision similaire, mais avec une très faible sensibilité pour la classe \"Bon\". Par conséquent, si la détection de \"Très Bon\" est prioritaire, LDA ou la régression logistique sont de bons choix. Cependant, si un compromis entre les classes est important, KNN pourrait être plus adapté malgré sa sensibilité limitée.\n"
   ]
  },
  {
   "cell_type": "markdown",
   "id": "a52d24f4",
   "metadata": {},
   "source": [
    "### QUESTION No 2"
   ]
  },
  {
   "cell_type": "markdown",
   "id": "c22fd9a5",
   "metadata": {},
   "source": [
    "#### a) Expression d’un estimateur θ \"chapeau\" de θ en fonction des n observations."
   ]
  },
  {
   "cell_type": "markdown",
   "id": "8c35fb95",
   "metadata": {},
   "source": [
    "#### b) Estimation par Bootstrap"
   ]
  },
  {
   "cell_type": "code",
   "execution_count": 34,
   "id": "4ad72e78",
   "metadata": {},
   "outputs": [
    {
     "data": {
      "text/html": [
       "<table class=\"dataframe\">\n",
       "<caption>A data.frame: 6 × 5</caption>\n",
       "<thead>\n",
       "\t<tr><th></th><th scope=col>Sepal.Length</th><th scope=col>Sepal.Width</th><th scope=col>Petal.Length</th><th scope=col>Petal.Width</th><th scope=col>Species</th></tr>\n",
       "\t<tr><th></th><th scope=col>&lt;dbl&gt;</th><th scope=col>&lt;dbl&gt;</th><th scope=col>&lt;dbl&gt;</th><th scope=col>&lt;dbl&gt;</th><th scope=col>&lt;fct&gt;</th></tr>\n",
       "</thead>\n",
       "<tbody>\n",
       "\t<tr><th scope=row>1</th><td>5.1</td><td>3.5</td><td>1.4</td><td>0.2</td><td>setosa</td></tr>\n",
       "\t<tr><th scope=row>2</th><td>4.9</td><td>3.0</td><td>1.4</td><td>0.2</td><td>setosa</td></tr>\n",
       "\t<tr><th scope=row>3</th><td>4.7</td><td>3.2</td><td>1.3</td><td>0.2</td><td>setosa</td></tr>\n",
       "\t<tr><th scope=row>4</th><td>4.6</td><td>3.1</td><td>1.5</td><td>0.2</td><td>setosa</td></tr>\n",
       "\t<tr><th scope=row>5</th><td>5.0</td><td>3.6</td><td>1.4</td><td>0.2</td><td>setosa</td></tr>\n",
       "\t<tr><th scope=row>6</th><td>5.4</td><td>3.9</td><td>1.7</td><td>0.4</td><td>setosa</td></tr>\n",
       "</tbody>\n",
       "</table>\n"
      ],
      "text/latex": [
       "A data.frame: 6 × 5\n",
       "\\begin{tabular}{r|lllll}\n",
       "  & Sepal.Length & Sepal.Width & Petal.Length & Petal.Width & Species\\\\\n",
       "  & <dbl> & <dbl> & <dbl> & <dbl> & <fct>\\\\\n",
       "\\hline\n",
       "\t1 & 5.1 & 3.5 & 1.4 & 0.2 & setosa\\\\\n",
       "\t2 & 4.9 & 3.0 & 1.4 & 0.2 & setosa\\\\\n",
       "\t3 & 4.7 & 3.2 & 1.3 & 0.2 & setosa\\\\\n",
       "\t4 & 4.6 & 3.1 & 1.5 & 0.2 & setosa\\\\\n",
       "\t5 & 5.0 & 3.6 & 1.4 & 0.2 & setosa\\\\\n",
       "\t6 & 5.4 & 3.9 & 1.7 & 0.4 & setosa\\\\\n",
       "\\end{tabular}\n"
      ],
      "text/markdown": [
       "\n",
       "A data.frame: 6 × 5\n",
       "\n",
       "| <!--/--> | Sepal.Length &lt;dbl&gt; | Sepal.Width &lt;dbl&gt; | Petal.Length &lt;dbl&gt; | Petal.Width &lt;dbl&gt; | Species &lt;fct&gt; |\n",
       "|---|---|---|---|---|---|\n",
       "| 1 | 5.1 | 3.5 | 1.4 | 0.2 | setosa |\n",
       "| 2 | 4.9 | 3.0 | 1.4 | 0.2 | setosa |\n",
       "| 3 | 4.7 | 3.2 | 1.3 | 0.2 | setosa |\n",
       "| 4 | 4.6 | 3.1 | 1.5 | 0.2 | setosa |\n",
       "| 5 | 5.0 | 3.6 | 1.4 | 0.2 | setosa |\n",
       "| 6 | 5.4 | 3.9 | 1.7 | 0.4 | setosa |\n",
       "\n"
      ],
      "text/plain": [
       "  Sepal.Length Sepal.Width Petal.Length Petal.Width Species\n",
       "1 5.1          3.5         1.4          0.2         setosa \n",
       "2 4.9          3.0         1.4          0.2         setosa \n",
       "3 4.7          3.2         1.3          0.2         setosa \n",
       "4 4.6          3.1         1.5          0.2         setosa \n",
       "5 5.0          3.6         1.4          0.2         setosa \n",
       "6 5.4          3.9         1.7          0.4         setosa "
      ]
     },
     "metadata": {},
     "output_type": "display_data"
    }
   ],
   "source": [
    "#chargement des données\n",
    "\n",
    "data(iris)\n",
    "iris_df<-iris\n",
    "head(iris_df)"
   ]
  },
  {
   "cell_type": "code",
   "execution_count": 35,
   "id": "ece30fa9",
   "metadata": {},
   "outputs": [],
   "source": [
    "# Définition de la fonction de l'estimateur pour chaque observation\n",
    "estimator<-function(data,indice){\n",
    "    #Extraction d'echantillon de Bootstrap\n",
    "    sample_data<-data[indice,]\n",
    "    #Calcul de l'estimateur pour l'echantillon extrait\n",
    "    mean(apply(sample_data, 1, function(x) {\n",
    "    min(x[2] + log(x[1]), x[1] + x[3] - 2 * x[4], exp(-abs(x[1] - x[4])), x[2] + 3 * x[3])\n",
    "  }))\n",
    "}"
   ]
  },
  {
   "cell_type": "code",
   "execution_count": 36,
   "id": "ecc44101",
   "metadata": {},
   "outputs": [],
   "source": [
    "# Estimation initiale sans bootstrap\n",
    "theta_hat_initial <- estimator(iris_df[, 1:4], 1:nrow(iris_df))"
   ]
  },
  {
   "cell_type": "code",
   "execution_count": 37,
   "id": "aa1badfa",
   "metadata": {},
   "outputs": [
    {
     "name": "stderr",
     "output_type": "stream",
     "text": [
      "\n",
      "Attachement du package : 'boot'\n",
      "\n",
      "\n",
      "L'objet suivant est masqué depuis 'package:lattice':\n",
      "\n",
      "    melanoma\n",
      "\n",
      "\n"
     ]
    }
   ],
   "source": [
    "# Chargement du package boot\n",
    "library(boot)\n",
    "set.seed(123)"
   ]
  },
  {
   "cell_type": "code",
   "execution_count": 38,
   "id": "beaf35a7",
   "metadata": {},
   "outputs": [],
   "source": [
    "# Appliquer le Bootstrap avec 3500 répétitions\n",
    "bootstrap_results<-boot(data = iris_df[,1:4],statistic = estimator, R = 3500)"
   ]
  },
  {
   "cell_type": "code",
   "execution_count": 39,
   "id": "45d2af8a",
   "metadata": {},
   "outputs": [],
   "source": [
    "# Estimation ponctuelle de θ\n",
    "theta_hat<-mean(bootstrap_results$t)"
   ]
  },
  {
   "cell_type": "code",
   "execution_count": 40,
   "id": "3f09c396",
   "metadata": {},
   "outputs": [],
   "source": [
    "# Biais de l'estimateur\n",
    "bias<-theta_hat-theta_hat_initial"
   ]
  },
  {
   "cell_type": "code",
   "execution_count": 41,
   "id": "427e3de1",
   "metadata": {},
   "outputs": [],
   "source": [
    "# Erreur-type de l'estimateur\n",
    "std_error<-sd(bootstrap_results$t)"
   ]
  },
  {
   "cell_type": "code",
   "execution_count": 42,
   "id": "ad4d5908",
   "metadata": {},
   "outputs": [
    {
     "name": "stdout",
     "output_type": "stream",
     "text": [
      "Estimation initiale sans bootstrap θ : 0.01080504 \n",
      "Estimation ponctuelle de θ : 0.0108067 \n",
      "Biais de l'estimateur : 1.661287e-06 \n",
      "Erreur-type de l'estimateur : 0.0004544095 \n"
     ]
    }
   ],
   "source": [
    "# Affichage des résultats\n",
    "cat(\"Estimation initiale sans bootstrap θ :\", theta_hat_initial, \"\\n\")\n",
    "cat(\"Estimation ponctuelle de θ :\", theta_hat, \"\\n\")\n",
    "cat(\"Biais de l'estimateur :\", bias, \"\\n\")\n",
    "cat(\"Erreur-type de l'estimateur :\", std_error, \"\\n\")"
   ]
  },
  {
   "cell_type": "markdown",
   "id": "1414adde",
   "metadata": {},
   "source": [
    "On observe que l'estimation de \\(\\theta\\) est très proche entre l'estimation initiale (\\(0.01080504\\)) et l'estimation ponctuelle avec bootstrap (\\(0.0108067\\)), indiquant un biais très faible. De plus, l'erreur-type est petite (\\(0.0004544095\\)), ce qui montre que l'estimation est stable et fiable."
   ]
  },
  {
   "cell_type": "markdown",
   "id": "aa192bf1",
   "metadata": {},
   "source": [
    "#### c) Intervalle de Confiance pour theta"
   ]
  },
  {
   "cell_type": "code",
   "execution_count": 43,
   "id": "8629ce66",
   "metadata": {},
   "outputs": [],
   "source": [
    "# Calcul de l'intervalle de confiance à 95% basé sur les quantiles bootstrap\n",
    "intervalle_confiance<-boot.ci(bootstrap_results,type = \"perc\")"
   ]
  },
  {
   "cell_type": "code",
   "execution_count": 44,
   "id": "b5acc380",
   "metadata": {},
   "outputs": [
    {
     "name": "stdout",
     "output_type": "stream",
     "text": [
      "Intervalle de confiance à 95% pour θ : [ 0.00992769 , 0.01170865 ]\n"
     ]
    }
   ],
   "source": [
    "# Affichage de l'intervalle de confiance\n",
    "cat(\"Intervalle de confiance à 95% pour θ : [\", intervalle_confiance$percent[4], \",\", intervalle_confiance$percent[5], \"]\\n\")"
   ]
  },
  {
   "cell_type": "markdown",
   "id": "9b9659ab",
   "metadata": {},
   "source": [
    "L'intervalle de confiance bootstrap à 95 % pour l'estimateur de θ est entre 0.0099 et 0.0117. Cela montre que l'estimation obtenue est précise, avec une marge d'incertitude faible. Cet intervalle étroit indique que la vraie valeur de θ se situe probablement dans cet intervalle, ce qui confirme la fiabilité de l'estimateur."
   ]
  },
  {
   "cell_type": "markdown",
   "id": "1e4d6577",
   "metadata": {},
   "source": [
    "### QUESTION No 3"
   ]
  },
  {
   "cell_type": "markdown",
   "id": "8f8d7d3c",
   "metadata": {},
   "source": [
    "###  générer les observations xi"
   ]
  },
  {
   "cell_type": "code",
   "execution_count": 122,
   "id": "7ffd710d",
   "metadata": {},
   "outputs": [
    {
     "name": "stdout",
     "output_type": "stream",
     "text": [
      "  [1]  3.7909967  8.1547200  2.6507253  6.2052825  4.3093210  8.0582662\n",
      "  [7]  7.4760221  6.1862560  6.4431369  1.2290405  5.8161345  5.6095595\n",
      " [13]  5.6531638  2.3456231  3.1305332  6.6795373  6.7218141  6.1181799\n",
      " [19]  7.1757183  6.5305737  8.0652550  8.1192820  3.4751085  2.6765195\n",
      " [25]  7.8706394  5.4266441  7.5834784  5.3211925  2.2415767  3.8262831\n",
      " [31]  6.6619627  6.0166906  3.2196100  6.5379713  5.3090516  3.4968764\n",
      " [37]  0.8975724  4.9981898  6.2546564  4.6080363  3.3576279  7.6178179\n",
      " [43]  4.3329655  4.6016743  7.4580778  4.2221194  7.0976751  5.9276450\n",
      " [49]  6.5384103  2.0377594  5.7986486  2.9246366  3.4523478  6.2307805\n",
      " [55]  3.6602493  2.7353432  3.4532771  6.9434025  4.8675332  3.1843980\n",
      " [61]  6.8995308  3.4043404  2.8705080  4.9294930  6.5619774  0.4661080\n",
      " [67]  2.6299509  4.8502817  1.8152349  2.6532042  4.7605448  5.3000937\n",
      " [73]  3.2751965  4.5656362  5.1826968  3.5256225  4.7991489  3.7203342\n",
      " [79]  4.8652131  6.2160176  5.0179278  7.4504915  3.8275772  3.8131345\n",
      " [85]  4.7596524  2.7568229  5.2609116  8.5235865  5.2952093  6.3235156\n",
      " [91] 10.9353109  6.9740777  6.4028915  6.9986734  9.5495660  5.8488366\n",
      " [97]  1.8954659  5.3299497  3.7650845  6.5538638\n"
     ]
    }
   ],
   "source": [
    "# Génération des données\n",
    "set.seed(2305686)\n",
    "\n",
    "# Définition des paramètres\n",
    "mu<-5 # Moyenne choisie pour x\n",
    "sigma<-2 # Ecart-type choisi pour x\n",
    "\n",
    "x<-rnorm(n=100, mean = mu, sd=sigma)\n",
    "print(x)"
   ]
  },
  {
   "cell_type": "markdown",
   "id": "c4914146",
   "metadata": {},
   "source": [
    "### Génération des erreurs"
   ]
  },
  {
   "cell_type": "code",
   "execution_count": 123,
   "id": "6219b984",
   "metadata": {
    "scrolled": true
   },
   "outputs": [
    {
     "name": "stdout",
     "output_type": "stream",
     "text": [
      "  [1] -0.6045016418  1.5773600225 -1.1746373465  0.6026412362 -0.3453395179\n",
      "  [6]  1.5291330792  1.2380110577  0.5931280073  0.7215684417 -1.8854797518\n",
      " [11]  0.4080672666  0.3047797723  0.3265818893 -1.3271884322 -0.9347333996\n",
      " [16]  0.8397686607  0.8609070274  0.5590899736  1.0878591251  0.7652868299\n",
      " [21]  1.5326274995  1.5596410086 -0.7624457442 -1.1617402494  1.4353197229\n",
      " [26]  0.2133220679  1.2917392238  0.1605962270 -1.3792116347 -0.5868584558\n",
      " [31]  0.8309813708  0.5083452929 -0.8901949826  0.7689856349  0.1545258071\n",
      " [36] -0.7515617910 -2.0512137862 -0.0009050996  0.6273281857 -0.1959818487\n",
      " [41] -0.8211860351  1.3089089696 -0.3335172514 -0.1991628531  1.2290388857\n",
      " [46] -0.3889402975  1.0488375365  0.4638224788  0.7692051594 -1.4811202783\n",
      " [51]  0.3993242999 -1.0376816999 -0.7738260813  0.6153902476 -0.6698753436\n",
      " [56] -1.1323284040 -0.7733614486  0.9717012745 -0.0662334183 -0.9078010191\n",
      " [61]  0.9497653752 -0.7978297770 -1.0647460231 -0.0352535167  0.7809886817\n",
      " [66] -2.2669459800 -1.1850245419 -0.0748591401 -1.5923825406 -1.1733979193\n",
      " [71] -0.1197275838  0.1500468596 -0.8624017612 -0.2171818913  0.0913484050\n",
      " [76] -0.7371887480 -0.1004255298 -0.6398328889 -0.0673934633  0.6080087762\n",
      " [81]  0.0089639131  1.2252457311 -0.5862113838 -0.5934327688 -0.1201738156\n",
      " [86] -1.1215885272  0.1304557954  1.7617932292  0.1476046491  0.6617578127\n",
      " [91]  2.9676554640  0.9870388481  0.7014457627  0.9993367105  2.2747829840\n",
      " [96]  0.4244183202 -1.5522670331  0.1649748703 -0.6174577275  0.7769318804\n"
     ]
    }
   ],
   "source": [
    "# Génération des données\n",
    "set.seed(2305686)\n",
    "\n",
    "# Définition des paramètres\n",
    "sigma_e<-1 # Ecart-type choisi pour x\n",
    "\n",
    "e <- rnorm(n = 100, mean = 0, sd = sigma_e)\n",
    "print(e)"
   ]
  },
  {
   "cell_type": "code",
   "execution_count": 128,
   "id": "c94e93e3",
   "metadata": {},
   "outputs": [],
   "source": [
    "# Définition des coefficients\n",
    "beta_0 <- 3\n",
    "beta_1 <- 2\n",
    "beta_2 <- -1\n",
    "beta_3 <- 0.5"
   ]
  },
  {
   "cell_type": "code",
   "execution_count": 129,
   "id": "8e0db3b0",
   "metadata": {},
   "outputs": [],
   "source": [
    "# Calcul d'y en fonction de x et des erreurs e\n",
    "y <- beta_0 + beta_1 * x + beta_2 * x^2 + beta_3 * x^3 + e"
   ]
  },
  {
   "cell_type": "code",
   "execution_count": 130,
   "id": "81f82554",
   "metadata": {},
   "outputs": [],
   "source": [
    "# Création du DataFrame final\n",
    "mondata3 <- data.frame(x = x, y = y)"
   ]
  },
  {
   "cell_type": "code",
   "execution_count": 131,
   "id": "e91fbcbb",
   "metadata": {},
   "outputs": [
    {
     "data": {
      "text/html": [
       "<table class=\"dataframe\">\n",
       "<caption>A data.frame: 6 × 2</caption>\n",
       "<thead>\n",
       "\t<tr><th></th><th scope=col>x</th><th scope=col>y</th></tr>\n",
       "\t<tr><th></th><th scope=col>&lt;dbl&gt;</th><th scope=col>&lt;dbl&gt;</th></tr>\n",
       "</thead>\n",
       "<tbody>\n",
       "\t<tr><th scope=row>1</th><td>3.790997</td><td> 22.847286</td></tr>\n",
       "\t<tr><th scope=row>2</th><td>8.154720</td><td>225.529577</td></tr>\n",
       "\t<tr><th scope=row>3</th><td>2.650725</td><td>  9.412923</td></tr>\n",
       "\t<tr><th scope=row>4</th><td>6.205282</td><td> 96.976523</td></tr>\n",
       "\t<tr><th scope=row>5</th><td>4.309321</td><td> 32.715633</td></tr>\n",
       "\t<tr><th scope=row>6</th><td>8.058266</td><td>217.344401</td></tr>\n",
       "</tbody>\n",
       "</table>\n"
      ],
      "text/latex": [
       "A data.frame: 6 × 2\n",
       "\\begin{tabular}{r|ll}\n",
       "  & x & y\\\\\n",
       "  & <dbl> & <dbl>\\\\\n",
       "\\hline\n",
       "\t1 & 3.790997 &  22.847286\\\\\n",
       "\t2 & 8.154720 & 225.529577\\\\\n",
       "\t3 & 2.650725 &   9.412923\\\\\n",
       "\t4 & 6.205282 &  96.976523\\\\\n",
       "\t5 & 4.309321 &  32.715633\\\\\n",
       "\t6 & 8.058266 & 217.344401\\\\\n",
       "\\end{tabular}\n"
      ],
      "text/markdown": [
       "\n",
       "A data.frame: 6 × 2\n",
       "\n",
       "| <!--/--> | x &lt;dbl&gt; | y &lt;dbl&gt; |\n",
       "|---|---|---|\n",
       "| 1 | 3.790997 |  22.847286 |\n",
       "| 2 | 8.154720 | 225.529577 |\n",
       "| 3 | 2.650725 |   9.412923 |\n",
       "| 4 | 6.205282 |  96.976523 |\n",
       "| 5 | 4.309321 |  32.715633 |\n",
       "| 6 | 8.058266 | 217.344401 |\n",
       "\n"
      ],
      "text/plain": [
       "  x        y         \n",
       "1 3.790997  22.847286\n",
       "2 8.154720 225.529577\n",
       "3 2.650725   9.412923\n",
       "4 6.205282  96.976523\n",
       "5 4.309321  32.715633\n",
       "6 8.058266 217.344401"
      ]
     },
     "metadata": {},
     "output_type": "display_data"
    }
   ],
   "source": [
    "# Affichage des premières lignes de mondata3 pour vérification\n",
    "head(mondata3)"
   ]
  },
  {
   "cell_type": "markdown",
   "id": "8c060660",
   "metadata": {},
   "source": [
    "### (c) Sélection des meilleurs modèles par regsubsets"
   ]
  },
  {
   "cell_type": "code",
   "execution_count": 133,
   "id": "c5335bc9",
   "metadata": {},
   "outputs": [
    {
     "name": "stderr",
     "output_type": "stream",
     "text": [
      "Installation du package dans 'C:/Users/gpres/AppData/Local/R/win-library/4.4'\n",
      "(car 'lib' n'est pas spécifié)\n",
      "\n"
     ]
    },
    {
     "name": "stdout",
     "output_type": "stream",
     "text": [
      "le package 'leaps' a été décompressé et les sommes MD5 ont été vérifiées avec succés\n",
      "\n",
      "Les packages binaires téléchargés sont dans\n",
      "\tC:\\Users\\gpres\\AppData\\Local\\Temp\\RtmpqeiLK8\\downloaded_packages\n"
     ]
    }
   ],
   "source": [
    "install.packages(\"leaps\")"
   ]
  },
  {
   "cell_type": "code",
   "execution_count": 134,
   "id": "5e548c38",
   "metadata": {},
   "outputs": [
    {
     "name": "stderr",
     "output_type": "stream",
     "text": [
      "Warning message:\n",
      "\"le package 'leaps' a été compilé avec la version R 4.4.2\"\n"
     ]
    }
   ],
   "source": [
    "library(leaps)"
   ]
  },
  {
   "cell_type": "code",
   "execution_count": 140,
   "id": "efcbcf98",
   "metadata": {},
   "outputs": [],
   "source": [
    "# Génération des prédicteurs supplémentaires (X² à X¹⁰)\n",
    "mondata3_ext <- data.frame(\n",
    "  y = mondata3$y,\n",
    "  poly(mondata3$x, degree = 10, raw = TRUE)\n",
    ")"
   ]
  },
  {
   "cell_type": "code",
   "execution_count": 141,
   "id": "f7f26654",
   "metadata": {},
   "outputs": [],
   "source": [
    "# Sélection des meilleurs modèles avec regsubsets\n",
    "fit_best <- regsubsets(y ~ ., data = mondata3_ext, nvmax = 10)"
   ]
  },
  {
   "cell_type": "code",
   "execution_count": 142,
   "id": "e306785b",
   "metadata": {},
   "outputs": [],
   "source": [
    "# Résumé des résultats\n",
    "summary_best <- summary(fit_best)"
   ]
  },
  {
   "cell_type": "code",
   "execution_count": 143,
   "id": "72a309b1",
   "metadata": {},
   "outputs": [
    {
     "name": "stdout",
     "output_type": "stream",
     "text": [
      "   NumVars           Cp        BIC     AdjR2\n",
      "1        1 4.214687e+29  -698.9795 0.9991512\n",
      "2        2 7.734791e+27 -1094.1760 0.9999843\n",
      "3        3 1.351361e+01 -7045.2394 1.0000000\n",
      "4        4 1.501611e+01 -7041.1069 1.0000000\n",
      "5        5 1.672219e+01 -7036.7820 1.0000000\n",
      "6        6 1.646912e+01 -7034.3518 1.0000000\n",
      "7        7 1.835120e+01 -7029.8617 1.0000000\n",
      "8        8 1.806403e+01 -7027.5165 1.0000000\n",
      "9        9 1.637121e+01 -7026.6717 1.0000000\n",
      "10      10 1.100000e+01 -7030.0236 1.0000000\n"
     ]
    }
   ],
   "source": [
    "# Affichage des critères Cp, BIC et Adjusted R²\n",
    "print(data.frame(\n",
    "  NumVars = 1:10,\n",
    "  Cp = summary_best$cp,\n",
    "  BIC = summary_best$bic,\n",
    "  AdjR2 = summary_best$adjr2\n",
    "))"
   ]
  },
  {
   "cell_type": "code",
   "execution_count": 144,
   "id": "ef216d8b",
   "metadata": {},
   "outputs": [
    {
     "data": {
      "image/png": "[encoded data removed]",
      "text/plain": [
       "Plot with title \"Critère Cp\""
      ]
     },
     "metadata": {
      "image/png": {
       "height": 420,
       "width": 420
      }
     },
     "output_type": "display_data"
    },
    {
     "data": {
      "image/png": "[encoded data removed]",
      "text/plain": [
       "Plot with title \"Critère BIC\""
      ]
     },
     "metadata": {
      "image/png": {
       "height": 420,
       "width": 420
      }
     },
     "output_type": "display_data"
    },
    {
     "data": {
      "image/png": "[encoded data removed]",
      "text/plain": [
       "Plot with title \"R² Ajusté\""
      ]
     },
     "metadata": {
      "image/png": {
       "height": 420,
       "width": 420
      }
     },
     "output_type": "display_data"
    }
   ],
   "source": [
    "# Visualisation des critères\n",
    "plot(summary_best$cp, type = \"b\", xlab = \"Nombre de prédicteurs\", ylab = \"Cp\", main = \"Critère Cp\")\n",
    "plot(summary_best$bic, type = \"b\", xlab = \"Nombre de prédicteurs\", ylab = \"BIC\", main = \"Critère BIC\")\n",
    "plot(summary_best$adjr2, type = \"b\", xlab = \"Nombre de prédicteurs\", ylab = \"R² Ajusté\", main = \"R² Ajusté\")"
   ]
  },
  {
   "cell_type": "markdown",
   "id": "98f113d8",
   "metadata": {},
   "source": [
    "On observe que pour le critère \\(C_p\\), la valeur diminue drastiquement lorsque le modèle inclut jusqu'à 3 prédicteurs (\\(X\\), \\(X^2\\), \\(X^3\\)), avant de se stabiliser. Cela indique que l'ajout de prédicteurs supplémentaires n'améliore pas significativement la performance du modèle.\n",
    "\n",
    "Pour le critère BIC, une tendance similaire est observée : la valeur atteint son minimum avec 3 prédicteurs, ce qui suggère que ce modèle offre un bon compromis entre complexité et qualité d'ajustement.\n",
    "\n",
    "En ce qui concerne le \\(R^2\\) ajusté, celui-ci augmente rapidement pour atteindre une valeur proche de 1 avec 3 prédicteurs, indiquant que ce modèle explique quasiment toute la variance des données.\n",
    "\n",
    "**Conclusion** : Le modèle optimal selon les critères \\(C_p\\), BIC et \\(R^2\\) ajusté est celui avec 3 prédicteurs (\\(X\\), \\(X^2\\), \\(X^3\\)). Ce modèle offre une balance idéale entre performance et simplicité.\n"
   ]
  },
  {
   "cell_type": "markdown",
   "id": "800d53e1",
   "metadata": {},
   "source": [
    "### (e) : Sélection avec Forward et Backward Stepwise"
   ]
  },
  {
   "cell_type": "code",
   "execution_count": 145,
   "id": "642d66c5",
   "metadata": {},
   "outputs": [],
   "source": [
    "# Forward Stepwise Selection\n",
    "fit_forward <- regsubsets(y ~ ., data = mondata3_ext, nvmax = 10, method = \"forward\")"
   ]
  },
  {
   "cell_type": "code",
   "execution_count": 146,
   "id": "3f4caa1a",
   "metadata": {},
   "outputs": [
    {
     "name": "stdout",
     "output_type": "stream",
     "text": [
      "Subset selection object\n",
      "Call: regsubsets.formula(y ~ ., data = mondata3_ext, nvmax = 10, method = \"forward\")\n",
      "10 Variables  (and intercept)\n",
      "    Forced in Forced out\n",
      "X1      FALSE      FALSE\n",
      "X2      FALSE      FALSE\n",
      "X3      FALSE      FALSE\n",
      "X4      FALSE      FALSE\n",
      "X5      FALSE      FALSE\n",
      "X6      FALSE      FALSE\n",
      "X7      FALSE      FALSE\n",
      "X8      FALSE      FALSE\n",
      "X9      FALSE      FALSE\n",
      "X10     FALSE      FALSE\n",
      "1 subsets of each size up to 10\n",
      "Selection Algorithm: forward\n",
      "          X1  X2  X3  X4  X5  X6  X7  X8  X9  X10\n",
      "1  ( 1 )  \" \" \" \" \"*\" \" \" \" \" \" \" \" \" \" \" \" \" \" \"\n",
      "2  ( 1 )  \" \" \" \" \"*\" \"*\" \" \" \" \" \" \" \" \" \" \" \" \"\n",
      "3  ( 1 )  \" \" \" \" \"*\" \"*\" \" \" \" \" \"*\" \" \" \" \" \" \"\n",
      "4  ( 1 )  \"*\" \" \" \"*\" \"*\" \" \" \" \" \"*\" \" \" \" \" \" \"\n",
      "5  ( 1 )  \"*\" \"*\" \"*\" \"*\" \" \" \" \" \"*\" \" \" \" \" \" \"\n",
      "6  ( 1 )  \"*\" \"*\" \"*\" \"*\" \" \" \" \" \"*\" \" \" \" \" \"*\"\n",
      "7  ( 1 )  \"*\" \"*\" \"*\" \"*\" \" \" \" \" \"*\" \" \" \"*\" \"*\"\n",
      "8  ( 1 )  \"*\" \"*\" \"*\" \"*\" \"*\" \" \" \"*\" \" \" \"*\" \"*\"\n",
      "9  ( 1 )  \"*\" \"*\" \"*\" \"*\" \"*\" \"*\" \"*\" \" \" \"*\" \"*\"\n",
      "10  ( 1 ) \"*\" \"*\" \"*\" \"*\" \"*\" \"*\" \"*\" \"*\" \"*\" \"*\"\n"
     ]
    }
   ],
   "source": [
    "# Résumé des résultats\n",
    "summary_forward <- summary(fit_forward)\n",
    "print(summary_forward)"
   ]
  },
  {
   "cell_type": "code",
   "execution_count": 147,
   "id": "bb82c45b",
   "metadata": {},
   "outputs": [],
   "source": [
    "# Backward Stepwise Selection\n",
    "fit_backward <- regsubsets(y ~ ., data = mondata3_ext, nvmax = 10, method = \"backward\")"
   ]
  },
  {
   "cell_type": "code",
   "execution_count": 148,
   "id": "a2068843",
   "metadata": {},
   "outputs": [
    {
     "name": "stdout",
     "output_type": "stream",
     "text": [
      "Subset selection object\n",
      "Call: regsubsets.formula(y ~ ., data = mondata3_ext, nvmax = 10, method = \"backward\")\n",
      "10 Variables  (and intercept)\n",
      "    Forced in Forced out\n",
      "X1      FALSE      FALSE\n",
      "X2      FALSE      FALSE\n",
      "X3      FALSE      FALSE\n",
      "X4      FALSE      FALSE\n",
      "X5      FALSE      FALSE\n",
      "X6      FALSE      FALSE\n",
      "X7      FALSE      FALSE\n",
      "X8      FALSE      FALSE\n",
      "X9      FALSE      FALSE\n",
      "X10     FALSE      FALSE\n",
      "1 subsets of each size up to 10\n",
      "Selection Algorithm: backward\n",
      "          X1  X2  X3  X4  X5  X6  X7  X8  X9  X10\n",
      "1  ( 1 )  \" \" \" \" \"*\" \" \" \" \" \" \" \" \" \" \" \" \" \" \"\n",
      "2  ( 1 )  \" \" \"*\" \"*\" \" \" \" \" \" \" \" \" \" \" \" \" \" \"\n",
      "3  ( 1 )  \"*\" \"*\" \"*\" \" \" \" \" \" \" \" \" \" \" \" \" \" \"\n",
      "4  ( 1 )  \"*\" \"*\" \"*\" \" \" \" \" \" \" \" \" \"*\" \" \" \" \"\n",
      "5  ( 1 )  \"*\" \"*\" \"*\" \" \" \" \" \" \" \"*\" \"*\" \" \" \" \"\n",
      "6  ( 1 )  \"*\" \"*\" \"*\" \" \" \" \" \"*\" \"*\" \"*\" \" \" \" \"\n",
      "7  ( 1 )  \"*\" \"*\" \"*\" \" \" \"*\" \"*\" \"*\" \"*\" \" \" \" \"\n",
      "8  ( 1 )  \"*\" \"*\" \"*\" \"*\" \"*\" \"*\" \"*\" \"*\" \" \" \" \"\n",
      "9  ( 1 )  \"*\" \"*\" \"*\" \"*\" \"*\" \"*\" \"*\" \"*\" \"*\" \" \"\n",
      "10  ( 1 ) \"*\" \"*\" \"*\" \"*\" \"*\" \"*\" \"*\" \"*\" \"*\" \"*\"\n"
     ]
    }
   ],
   "source": [
    "# Résumé des résultats\n",
    "summary_backward <- summary(fit_backward)\n",
    "print(summary_backward)"
   ]
  },
  {
   "cell_type": "markdown",
   "id": "59f411f6",
   "metadata": {},
   "source": [
    "### Interprétation des résultats de Forward et Backward Stepwise Selection\n",
    "\n",
    "On observe que pour la **méthode Forward Stepwise**, les prédicteurs sont ajoutés progressivement, et les résultats montrent que les premières variables incluses dans le modèle sont les plus significatives (\\(X\\), \\(X^2\\), \\(X^3\\)). À mesure que le nombre de variables augmente, les ajouts successifs n’apportent que peu d’améliorations significatives. Cela confirme que les prédicteurs principaux sont les mêmes que ceux identifiés précédemment avec les critères \\(C_p\\), BIC et \\(R^2\\) ajusté.\n",
    "\n",
    "Pour la **méthode Backward Stepwise**, qui commence avec l’ensemble complet des prédicteurs, les variables sont éliminées une par une. Ici encore, on observe que les prédicteurs \\(X\\), \\(X^2\\), et \\(X^3\\) sont conservés dans les modèles finaux, ce qui est cohérent avec les conclusions tirées des autres critères.\n",
    "\n",
    "### Comparaison avec les résultats obtenus en (c)\n",
    "\n",
    "Les résultats obtenus ici avec les sélections Forward et Backward sont alignés avec ceux obtenus en (c) à l’aide des critères \\(C_p\\), BIC et \\(R^2\\) ajusté. Dans les deux cas, les prédicteurs \\(X\\), \\(X^2\\), et \\(X^3\\) sont identifiés comme les plus pertinents, offrant le meilleur compromis entre la complexité du modèle et sa performance.\n",
    "\n",
    "---\n",
    "\n",
    "### Conclusion\n",
    "\n",
    "Les résultats des méthodes Forward et Backward Stepwise confirment que le modèle optimal inclut les prédicteurs \\(X\\), \\(X^2\\), et \\(X^3\\). Ces variables expliquent la majeure partie de la variance des données, et leur inclusion suffit pour atteindre une performance optimale tout en maintenant une simplicité du modèle. Les résultats sont cohérents avec ceux obtenus à l’aide des critères en (c), validant ainsi leur robustesse.\n"
   ]
  },
  {
   "cell_type": "markdown",
   "id": "658778b4",
   "metadata": {},
   "source": [
    "### (f) : Ajustement du modèle LASSO"
   ]
  },
  {
   "cell_type": "code",
   "execution_count": 149,
   "id": "e4401587",
   "metadata": {},
   "outputs": [
    {
     "name": "stderr",
     "output_type": "stream",
     "text": [
      "Installation du package dans 'C:/Users/gpres/AppData/Local/R/win-library/4.4'\n",
      "(car 'lib' n'est pas spécifié)\n",
      "\n",
      "installation de la dépendance 'RcppEigen'\n",
      "\n",
      "\n"
     ]
    },
    {
     "name": "stdout",
     "output_type": "stream",
     "text": [
      "le package 'RcppEigen' a été décompressé et les sommes MD5 ont été vérifiées avec succés\n",
      "le package 'glmnet' a été décompressé et les sommes MD5 ont été vérifiées avec succés\n",
      "\n",
      "Les packages binaires téléchargés sont dans\n",
      "\tC:\\Users\\gpres\\AppData\\Local\\Temp\\RtmpqeiLK8\\downloaded_packages\n"
     ]
    }
   ],
   "source": [
    "install.packages(\"glmnet\")"
   ]
  },
  {
   "cell_type": "code",
   "execution_count": 150,
   "id": "e949ebc1",
   "metadata": {},
   "outputs": [
    {
     "name": "stderr",
     "output_type": "stream",
     "text": [
      "Warning message:\n",
      "\"le package 'glmnet' a été compilé avec la version R 4.4.2\"\n",
      "Le chargement a nécessité le package : Matrix\n",
      "\n",
      "Loaded glmnet 4.1-8\n",
      "\n"
     ]
    }
   ],
   "source": [
    "library(glmnet)"
   ]
  },
  {
   "cell_type": "code",
   "execution_count": 151,
   "id": "185300a8",
   "metadata": {},
   "outputs": [],
   "source": [
    "# Préparation des données pour LASSO\n",
    "x_matrix <- as.matrix(mondata3_ext[, -1])\n",
    "y_vector <- mondata3_ext$y"
   ]
  },
  {
   "cell_type": "code",
   "execution_count": 152,
   "id": "70358afb",
   "metadata": {},
   "outputs": [],
   "source": [
    "# Ajustement du modèle LASSO\n",
    "fit_lasso <- cv.glmnet(x_matrix, y_vector, alpha = 1)"
   ]
  },
  {
   "cell_type": "code",
   "execution_count": 153,
   "id": "f4f15097",
   "metadata": {},
   "outputs": [
    {
     "name": "stdout",
     "output_type": "stream",
     "text": [
      "[1] 2.441885\n"
     ]
    }
   ],
   "source": [
    "# Affichage du lambda optimal\n",
    "print(fit_lasso$lambda.min)"
   ]
  },
  {
   "cell_type": "code",
   "execution_count": 154,
   "id": "a9d6eab1",
   "metadata": {},
   "outputs": [
    {
     "data": {
      "image/png": "[encoded data removed]",
      "text/plain": [
       "plot without title"
      ]
     },
     "metadata": {
      "image/png": {
       "height": 420,
       "width": 420
      }
     },
     "output_type": "display_data"
    }
   ],
   "source": [
    "# Tracé de l'erreur de validation croisée\n",
    "plot(fit_lasso)"
   ]
  },
  {
   "cell_type": "code",
   "execution_count": 155,
   "id": "2be13874",
   "metadata": {},
   "outputs": [
    {
     "data": {
      "text/plain": [
       "11 x 1 sparse Matrix of class \"dgCMatrix\"\n",
       "                     s1\n",
       "(Intercept) 3.901553211\n",
       "X1          .          \n",
       "X2          .          \n",
       "X3          0.354737782\n",
       "X4          0.005567988\n",
       "X5          .          \n",
       "X6          .          \n",
       "X7          .          \n",
       "X8          .          \n",
       "X9          .          \n",
       "X10         .          "
      ]
     },
     "metadata": {},
     "output_type": "display_data"
    }
   ],
   "source": [
    "# Coefficients pour le lambda optimal\n",
    "coef(fit_lasso, s = fit_lasso$lambda.min)"
   ]
  },
  {
   "cell_type": "markdown",
   "id": "63dfa534",
   "metadata": {},
   "source": [
    "### Interprétation\n",
    "\n",
    "1. **Valeur de Lambda Optimal** :  \n",
    "   Le lambda optimal, obtenu par validation croisée, est \\( \\lambda = 2.44 \\). Cette valeur minimise l'erreur quadratique moyenne (Mean Squared Error - MSE) dans le modèle LASSO. Cela indique que ce niveau de régularisation est idéal pour éviter à la fois le surajustement et le sous-ajustement.\n",
    "\n",
    "2. **Tracé de l'erreur de validation croisée** :  \n",
    "   Le graphique montre une forte augmentation de l'erreur moyenne quadratique lorsque \\( \\log(\\lambda) \\) devient plus grand (régularisation plus forte). Cela signifie que des valeurs trop élevées de \\( \\lambda \\) pénalisent trop les coefficients, rendant le modèle sous-ajusté. À l'inverse, des valeurs trop faibles de \\( \\lambda \\) augmentent légèrement l'erreur en raison d'un surajustement.\n",
    "\n",
    "3. **Coefficients associés au modèle optimal** :  \n",
    "   Avec \\( \\lambda = 2.44 \\), seuls deux prédicteurs (\\(X_3\\) et \\(X_4\\)) sont retenus avec des coefficients non nuls (\\(0.3547\\) et \\(0.0056\\) respectivement). Cela montre que le modèle LASSO a effectué une sélection de variables, éliminant les autres prédicteurs (\\(X_1, X_2, X_5, \\dots, X_{10}\\)) en raison de leur faible contribution à la qualité du modèle.\n",
    "\n",
    "---\n",
    "\n",
    "### Conclusion\n",
    "\n",
    "Le modèle LASSO, avec \\( \\lambda = 2.44 \\), réduit la complexité en ne conservant que deux prédicteurs (\\(X_3\\) et \\(X_4\\)), tout en maintenant une performance optimale en termes d'erreur quadratique moyenne. Cette approche permet d'obtenir un modèle parcimonieux qui favorise l'interprétabilité sans sacrifier la précision.\n"
   ]
  },
  {
   "cell_type": "markdown",
   "id": "7393d26d",
   "metadata": {},
   "source": [
    "### Nouvelle génération de Y"
   ]
  },
  {
   "cell_type": "code",
   "execution_count": 157,
   "id": "89b85302",
   "metadata": {},
   "outputs": [],
   "source": [
    "# Définition des nouveaux coefficients\n",
    "beta_7 <- 1.5\n",
    "\n",
    "# Nouvelle génération de Y\n",
    "y_new <- beta_0 + beta_7 * x^7 + e"
   ]
  },
  {
   "cell_type": "code",
   "execution_count": 158,
   "id": "817e2bb6",
   "metadata": {},
   "outputs": [],
   "source": [
    "# Création du nouveau DataFrame\n",
    "mondata3_new <- data.frame(x = x, y = y_new)"
   ]
  },
  {
   "cell_type": "code",
   "execution_count": 159,
   "id": "abf68032",
   "metadata": {},
   "outputs": [],
   "source": [
    "# Sélection des meilleurs modèles avec regsubsets\n",
    "fit_best_new <- regsubsets(y ~ ., data = data.frame(\n",
    "  y = mondata3_new$y,\n",
    "  poly(mondata3_new$x, degree = 10, raw = TRUE)\n",
    "), nvmax = 10)"
   ]
  },
  {
   "cell_type": "code",
   "execution_count": 160,
   "id": "e7f9ae15",
   "metadata": {},
   "outputs": [
    {
     "name": "stdout",
     "output_type": "stream",
     "text": [
      "Subset selection object\n",
      "Call: regsubsets.formula(y ~ ., data = data.frame(y = mondata3_new$y, \n",
      "    poly(mondata3_new$x, degree = 10, raw = TRUE)), nvmax = 10)\n",
      "10 Variables  (and intercept)\n",
      "    Forced in Forced out\n",
      "X1      FALSE      FALSE\n",
      "X2      FALSE      FALSE\n",
      "X3      FALSE      FALSE\n",
      "X4      FALSE      FALSE\n",
      "X5      FALSE      FALSE\n",
      "X6      FALSE      FALSE\n",
      "X7      FALSE      FALSE\n",
      "X8      FALSE      FALSE\n",
      "X9      FALSE      FALSE\n",
      "X10     FALSE      FALSE\n",
      "1 subsets of each size up to 10\n",
      "Selection Algorithm: exhaustive\n",
      "          X1  X2  X3  X4  X5  X6  X7  X8  X9  X10\n",
      "1  ( 1 )  \" \" \" \" \" \" \" \" \" \" \" \" \"*\" \" \" \" \" \" \"\n",
      "2  ( 1 )  \"*\" \" \" \" \" \" \" \" \" \" \" \"*\" \" \" \" \" \" \"\n",
      "3  ( 1 )  \"*\" \" \" \"*\" \" \" \" \" \" \" \"*\" \" \" \" \" \" \"\n",
      "4  ( 1 )  \"*\" \" \" \" \" \"*\" \" \" \"*\" \"*\" \" \" \" \" \" \"\n",
      "5  ( 1 )  \"*\" \"*\" \"*\" \"*\" \" \" \" \" \"*\" \" \" \" \" \" \"\n",
      "6  ( 1 )  \"*\" \"*\" \"*\" \"*\" \"*\" \" \" \"*\" \" \" \" \" \" \"\n",
      "7  ( 1 )  \"*\" \"*\" \"*\" \"*\" \"*\" \"*\" \"*\" \" \" \" \" \" \"\n",
      "8  ( 1 )  \"*\" \" \" \"*\" \"*\" \" \" \"*\" \"*\" \"*\" \"*\" \"*\"\n",
      "9  ( 1 )  \"*\" \"*\" \"*\" \"*\" \"*\" \"*\" \"*\" \"*\" \"*\" \" \"\n",
      "10  ( 1 ) \"*\" \"*\" \"*\" \"*\" \"*\" \"*\" \"*\" \"*\" \"*\" \"*\"\n"
     ]
    }
   ],
   "source": [
    "# Résumé des résultats\n",
    "summary_best_new <- summary(fit_best_new)\n",
    "print(summary_best_new)"
   ]
  },
  {
   "cell_type": "markdown",
   "id": "216b83c1",
   "metadata": {},
   "source": [
    "### Interprétation\n",
    "\n",
    "1. **Résumé des résultats de la sélection exhaustive** :\n",
    "   - La méthode de sélection exhaustive teste toutes les combinaisons possibles de prédicteurs (X_1 à X_10) pour trouver le meilleur sous-ensemble qui explique au mieux la variable cible (y).\n",
    "   - Le tableau montre les prédicteurs inclus dans les modèles de tailles différentes, de 1 à 10 variables. Les cases marquées avec `*` indiquent les variables sélectionnées pour chaque taille de modèle.\n",
    "\n",
    "2. **Tendances observées** :\n",
    "   - On constate que les variables (X_3), (X_4), et parfois (X_2) sont fréquemment sélectionnées dans les modèles optimaux pour différentes tailles. Cela indique qu'elles ont un impact significatif sur la variable cible (y).\n",
    "   - Les variables (X_5) à (X_10), en revanche, apparaissent rarement ou pas du tout dans les modèles optimaux, ce qui suggère qu'elles ont une contribution négligeable à la performance globale.\n",
    "\n",
    "---\n",
    "\n",
    "### Conclusion\n",
    "\n",
    "La sélection exhaustive confirme que seules quelques variables (X_3 et X_4), principalement, sont nécessaires pour construire un modèle performant. Ces résultats sont cohérents avec les conclusions précédentes obtenues par les méthodes de LASSO et de sélection pas-à-pas (forward et backward).\n"
   ]
  },
  {
   "cell_type": "code",
   "execution_count": null,
   "id": "4c578869",
   "metadata": {},
   "outputs": [],
   "source": []
  }
 ],
 "metadata": {
  "kernelspec": {
   "display_name": "R",
   "language": "R",
   "name": "ir"
  },
  "language_info": {
   "codemirror_mode": "r",
   "file_extension": ".r",
   "mimetype": "text/x-r-source",
   "name": "R",
   "pygments_lexer": "r",
   "version": "4.4.1"
  }
 },
 "nbformat": 4,
 "nbformat_minor": 5
}
